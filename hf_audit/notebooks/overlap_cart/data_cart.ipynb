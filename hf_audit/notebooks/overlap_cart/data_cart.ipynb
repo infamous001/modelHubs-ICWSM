{
 "cells": [
  {
   "cell_type": "code",
   "execution_count": 2,
   "metadata": {},
   "outputs": [
    {
     "name": "stderr",
     "output_type": "stream",
     "text": [
      "/home/vamsi.srivathsa/miniconda3/lib/python3.11/site-packages/pandas/core/arrays/masked.py:60: UserWarning: Pandas requires version '1.3.6' or newer of 'bottleneck' (version '1.3.5' currently installed).\n",
      "  from pandas.core import (\n"
     ]
    }
   ],
   "source": [
    "import tqdm\n",
    "from huggingface_hub import HfApi, ModelFilter, list_models\n",
    "import json, requests, torch\n",
    "from multiprocessing import Pool\n",
    "import json, pandas as pd, numpy as np, os\n",
    "from datasets import load_dataset\n",
    "import evaluate\n",
    "\n",
    "import sys\n",
    "sys.path.append(\"../\")"
   ]
  },
  {
   "cell_type": "code",
   "execution_count": 3,
   "metadata": {},
   "outputs": [],
   "source": [
    "def read_training_dynamics(model_dir: os.path,\n",
    "                           strip_last: bool = False,\n",
    "                           id_field: str = \"guid\",\n",
    "                           burn_out: int = None):\n",
    "  \"\"\"\n",
    "  Given path to logged training dynamics, merge stats across epochs.\n",
    "  Returns:\n",
    "  - Dict between ID of a train instances and its gold label, and the list of logits across epochs.\n",
    "  \"\"\"\n",
    "  train_dynamics = {}\n",
    "\n",
    "  td_dir = os.path.join(model_dir, \"training_dynamics\")\n",
    "  num_epochs = len([f for f in os.listdir(td_dir) if os.path.isfile(os.path.join(td_dir, f))])\n",
    "  if burn_out:\n",
    "    num_epochs = burn_out\n",
    "\n",
    "  print(f\"Reading {num_epochs} files from {td_dir} ...\")\n",
    "  for epoch_num in tqdm.tqdm(range(num_epochs)):\n",
    "    epoch_file = os.path.join(td_dir, f\"dynamics_epoch_{epoch_num}.jsonl\")\n",
    "    assert os.path.exists(epoch_file)\n",
    "\n",
    "    with open(epoch_file, \"r\") as infile:\n",
    "      for line in infile:\n",
    "        record = json.loads(line.strip())\n",
    "        guid = record[id_field] if not strip_last else record[id_field][:-1]\n",
    "        if guid not in train_dynamics:\n",
    "          assert epoch_num == 0\n",
    "          train_dynamics[guid] = {\"gold\": record[\"gold\"], \"logits\": []}\n",
    "        train_dynamics[guid][\"logits\"].append(record[f\"logits_epoch_{epoch_num}\"])\n",
    "\n",
    "  print(f\"Read training dynamics for {len(train_dynamics)} train instances.\")\n",
    "  return train_dynamics"
   ]
  },
  {
   "cell_type": "code",
   "execution_count": 4,
   "metadata": {},
   "outputs": [],
   "source": [
    "from collections import defaultdict\n",
    "from typing import List\n",
    "\n",
    "def compute_forgetfulness(correctness_trend: List[float]) -> int:\n",
    "  \"\"\"\n",
    "  Given a epoch-wise trend of train predictions, compute frequency with which\n",
    "  an example is forgotten, i.e. predicted incorrectly _after_ being predicted correctly.\n",
    "  Based on: https://arxiv.org/abs/1812.05159\n",
    "  \"\"\"\n",
    "  if not any(correctness_trend):  # Example is never predicted correctly, or learnt!\n",
    "      return 1000\n",
    "  learnt = False  # Predicted correctly in the current epoch.\n",
    "  times_forgotten = 0\n",
    "  for is_correct in correctness_trend:\n",
    "    if (not learnt and not is_correct) or (learnt and is_correct):\n",
    "      # nothing changed.\n",
    "      continue\n",
    "    elif learnt and not is_correct:\n",
    "      # Forgot after learning at some point!\n",
    "      learnt = False\n",
    "      times_forgotten += 1\n",
    "    elif not learnt and is_correct:\n",
    "      # Learnt!\n",
    "      learnt = True\n",
    "  return times_forgotten\n",
    "\n",
    "\n",
    "def compute_correctness(trend: List[float]) -> float:\n",
    "  \"\"\"\n",
    "  Aggregate #times an example is predicted correctly during all training epochs.\n",
    "  \"\"\"\n",
    "  return sum(trend)\n",
    "\n",
    "\n",
    "\n",
    "def compute_train_dy_metrics(training_dynamics):\n",
    "  \"\"\"\n",
    "  Given the training dynamics (logits for each training instance across epochs), compute metrics\n",
    "  based on it, for data map coorodinates.\n",
    "  Computed metrics are: confidence, variability, correctness, forgetfulness, threshold_closeness---\n",
    "  the last two being baselines from prior work\n",
    "  (Example Forgetting: https://arxiv.org/abs/1812.05159 and\n",
    "   Active Bias: https://arxiv.org/abs/1704.07433 respectively).\n",
    "  Returns:\n",
    "  - DataFrame with these metrics.\n",
    "  - DataFrame with more typical training evaluation metrics, such as accuracy / loss.\n",
    "  \"\"\"\n",
    "  confidence_ = {}\n",
    "  variability_ = {}\n",
    "  threshold_closeness_ = {}\n",
    "  correctness_ = {}\n",
    "  forgetfulness_ = {}\n",
    "\n",
    "  # Functions to be applied to the data.\n",
    "  variability_func = lambda conf: np.std(conf)\n",
    "  threshold_closeness_func = lambda conf: conf * (1 - conf)\n",
    "\n",
    "  loss = torch.nn.CrossEntropyLoss()\n",
    "\n",
    "  num_tot_epochs = len(list(training_dynamics.values())[0][\"logits\"])\n",
    "  print(f\"Computing training dynamics across {num_tot_epochs} epochs\")\n",
    "  print(\"Metrics computed: confidence, variability, correctness, forgetfulness, threshold_closeness\")\n",
    "\n",
    "  logits = {i: [] for i in range(num_tot_epochs)}\n",
    "  targets = {i: [] for i in range(num_tot_epochs)}\n",
    "  training_accuracy = defaultdict(float)\n",
    "\n",
    "  for guid in tqdm.tqdm(training_dynamics):\n",
    "    correctness_trend = []\n",
    "    true_probs_trend = []\n",
    "\n",
    "    record = training_dynamics[guid]\n",
    "    for i, epoch_logits in enumerate(record[\"logits\"]):\n",
    "      probs = torch.nn.functional.softmax(torch.Tensor(epoch_logits), dim=-1)\n",
    "      true_class_prob = float(probs[record[\"gold\"]])\n",
    "      true_probs_trend.append(true_class_prob)\n",
    "\n",
    "      prediction = np.argmax(epoch_logits)\n",
    "      is_correct = (prediction == record[\"gold\"]).item()\n",
    "      correctness_trend.append(is_correct)\n",
    "\n",
    "      training_accuracy[i] += is_correct\n",
    "      logits[i].append(epoch_logits)\n",
    "      targets[i].append(record[\"gold\"])\n",
    "\n",
    "    # if burn_out < num_tot_epochs:\n",
    "    #   correctness_trend = correctness_trend[:args.burn_out]\n",
    "    #   true_probs_trend = true_probs_trend[:args.burn_out]\n",
    "\n",
    "    correctness_[guid] = compute_correctness(correctness_trend)\n",
    "    confidence_[guid] = np.mean(true_probs_trend)\n",
    "    variability_[guid] = variability_func(true_probs_trend)\n",
    "\n",
    "    forgetfulness_[guid] = compute_forgetfulness(correctness_trend)\n",
    "    threshold_closeness_[guid] = threshold_closeness_func(confidence_[guid])\n",
    "\n",
    "  # Should not affect ranking, so ignoring.\n",
    "  epsilon_var = np.mean(list(variability_.values()))\n",
    "\n",
    "  column_names = ['guid',\n",
    "                  'index',\n",
    "                  'threshold_closeness',\n",
    "                  'confidence',\n",
    "                  'variability',\n",
    "                  'correctness',\n",
    "                  'forgetfulness',]\n",
    "  df = pd.DataFrame([[guid,\n",
    "                      i,\n",
    "                      threshold_closeness_[guid],\n",
    "                      confidence_[guid],\n",
    "                      variability_[guid],\n",
    "                      correctness_[guid],\n",
    "                      forgetfulness_[guid],\n",
    "                      ] for i, guid in enumerate(correctness_)], columns=column_names)\n",
    "\n",
    "  df_train = pd.DataFrame([[i,\n",
    "                            loss(torch.Tensor(logits[i]), torch.LongTensor(targets[i])).item() / len(training_dynamics),\n",
    "                            training_accuracy[i] / len(training_dynamics)\n",
    "                            ] for i in range(num_tot_epochs)],\n",
    "                          columns=['epoch', 'loss', 'train_acc'])\n",
    "  return df, df_train"
   ]
  },
  {
   "cell_type": "code",
   "execution_count": 5,
   "metadata": {
    "scrolled": true
   },
   "outputs": [
    {
     "name": "stdout",
     "output_type": "stream",
     "text": [
      "Reading 3 files from /home/vamsi.srivathsa/pritam.k/hf_audit/overlap_cart/albert/amazon_multi_reviews/training_dynamics ...\n"
     ]
    },
    {
     "name": "stderr",
     "output_type": "stream",
     "text": [
      "100%|█████████████████████████████████████████████████████████████████████████████████████| 3/3 [00:01<00:00,  1.56it/s]\n"
     ]
    },
    {
     "name": "stdout",
     "output_type": "stream",
     "text": [
      "Read training dynamics for 126000 train instances.\n",
      "Computing training dynamics across 3 epochs\n",
      "Metrics computed: confidence, variability, correctness, forgetfulness, threshold_closeness\n"
     ]
    },
    {
     "name": "stderr",
     "output_type": "stream",
     "text": [
      "100%|████████████████████████████████████████████████████████████████████████| 126000/126000 [00:11<00:00, 11201.49it/s]\n"
     ]
    },
    {
     "name": "stdout",
     "output_type": "stream",
     "text": [
      "Reading 5 files from /home/vamsi.srivathsa/pritam.k/hf_audit/overlap_cart/albert/tweet_eval/training_dynamics ...\n"
     ]
    },
    {
     "name": "stderr",
     "output_type": "stream",
     "text": [
      "100%|█████████████████████████████████████████████████████████████████████████████████████| 5/5 [00:01<00:00,  3.79it/s]\n"
     ]
    },
    {
     "name": "stdout",
     "output_type": "stream",
     "text": [
      "Read training dynamics for 59899 train instances.\n",
      "Computing training dynamics across 5 epochs\n",
      "Metrics computed: confidence, variability, correctness, forgetfulness, threshold_closeness\n"
     ]
    },
    {
     "name": "stderr",
     "output_type": "stream",
     "text": [
      "100%|███████████████████████████████████████████████████████████████████████████| 59899/59899 [00:07<00:00, 8084.92it/s]\n"
     ]
    },
    {
     "name": "stdout",
     "output_type": "stream",
     "text": [
      "Reading 19 files from /home/vamsi.srivathsa/pritam.k/hf_audit/overlap_cart/albert/financial_phrasebank/training_dynamics ...\n"
     ]
    },
    {
     "name": "stderr",
     "output_type": "stream",
     "text": [
      "100%|███████████████████████████████████████████████████████████████████████████████████| 19/19 [00:00<00:00, 30.73it/s]\n"
     ]
    },
    {
     "name": "stdout",
     "output_type": "stream",
     "text": [
      "Read training dynamics for 4846 train instances.\n",
      "Computing training dynamics across 19 epochs\n",
      "Metrics computed: confidence, variability, correctness, forgetfulness, threshold_closeness\n"
     ]
    },
    {
     "name": "stderr",
     "output_type": "stream",
     "text": [
      "100%|█████████████████████████████████████████████████████████████████████████████| 4846/4846 [00:01<00:00, 2816.99it/s]\n"
     ]
    },
    {
     "name": "stdout",
     "output_type": "stream",
     "text": [
      "Reading 3 files from /home/vamsi.srivathsa/pritam.k/hf_audit/overlap_cart/bert/amazon_multi_reviews/training_dynamics ...\n"
     ]
    },
    {
     "name": "stderr",
     "output_type": "stream",
     "text": [
      "100%|█████████████████████████████████████████████████████████████████████████████████████| 3/3 [00:01<00:00,  1.76it/s]\n"
     ]
    },
    {
     "name": "stdout",
     "output_type": "stream",
     "text": [
      "Read training dynamics for 126000 train instances.\n",
      "Computing training dynamics across 3 epochs\n",
      "Metrics computed: confidence, variability, correctness, forgetfulness, threshold_closeness\n"
     ]
    },
    {
     "name": "stderr",
     "output_type": "stream",
     "text": [
      "100%|████████████████████████████████████████████████████████████████████████| 126000/126000 [00:11<00:00, 11398.84it/s]\n"
     ]
    },
    {
     "name": "stdout",
     "output_type": "stream",
     "text": [
      "Reading 5 files from /home/vamsi.srivathsa/pritam.k/hf_audit/overlap_cart/bert/tweet_eval/training_dynamics ...\n"
     ]
    },
    {
     "name": "stderr",
     "output_type": "stream",
     "text": [
      "100%|█████████████████████████████████████████████████████████████████████████████████████| 5/5 [00:01<00:00,  4.16it/s]\n"
     ]
    },
    {
     "name": "stdout",
     "output_type": "stream",
     "text": [
      "Read training dynamics for 59899 train instances.\n",
      "Computing training dynamics across 5 epochs\n",
      "Metrics computed: confidence, variability, correctness, forgetfulness, threshold_closeness\n"
     ]
    },
    {
     "name": "stderr",
     "output_type": "stream",
     "text": [
      "100%|███████████████████████████████████████████████████████████████████████████| 59899/59899 [00:07<00:00, 8089.09it/s]\n"
     ]
    },
    {
     "name": "stdout",
     "output_type": "stream",
     "text": [
      "Reading 19 files from /home/vamsi.srivathsa/pritam.k/hf_audit/overlap_cart/bert/financial_phrasebank/training_dynamics ...\n"
     ]
    },
    {
     "name": "stderr",
     "output_type": "stream",
     "text": [
      "100%|███████████████████████████████████████████████████████████████████████████████████| 19/19 [00:00<00:00, 77.32it/s]\n"
     ]
    },
    {
     "name": "stdout",
     "output_type": "stream",
     "text": [
      "Read training dynamics for 4846 train instances.\n",
      "Computing training dynamics across 19 epochs\n",
      "Metrics computed: confidence, variability, correctness, forgetfulness, threshold_closeness\n"
     ]
    },
    {
     "name": "stderr",
     "output_type": "stream",
     "text": [
      "100%|█████████████████████████████████████████████████████████████████████████████| 4846/4846 [00:01<00:00, 2921.29it/s]\n"
     ]
    },
    {
     "name": "stdout",
     "output_type": "stream",
     "text": [
      "Reading 3 files from /home/vamsi.srivathsa/pritam.k/hf_audit/overlap_cart/roberta/amazon_multi_reviews/training_dynamics ...\n"
     ]
    },
    {
     "name": "stderr",
     "output_type": "stream",
     "text": [
      "100%|█████████████████████████████████████████████████████████████████████████████████████| 3/3 [00:01<00:00,  1.52it/s]\n"
     ]
    },
    {
     "name": "stdout",
     "output_type": "stream",
     "text": [
      "Read training dynamics for 126000 train instances.\n",
      "Computing training dynamics across 3 epochs\n",
      "Metrics computed: confidence, variability, correctness, forgetfulness, threshold_closeness\n"
     ]
    },
    {
     "name": "stderr",
     "output_type": "stream",
     "text": [
      "100%|████████████████████████████████████████████████████████████████████████| 126000/126000 [00:11<00:00, 11453.22it/s]\n"
     ]
    },
    {
     "name": "stdout",
     "output_type": "stream",
     "text": [
      "Reading 5 files from /home/vamsi.srivathsa/pritam.k/hf_audit/overlap_cart/roberta/tweet_eval/training_dynamics ...\n"
     ]
    },
    {
     "name": "stderr",
     "output_type": "stream",
     "text": [
      "100%|█████████████████████████████████████████████████████████████████████████████████████| 5/5 [00:01<00:00,  4.11it/s]\n"
     ]
    },
    {
     "name": "stdout",
     "output_type": "stream",
     "text": [
      "Read training dynamics for 59899 train instances.\n",
      "Computing training dynamics across 5 epochs\n",
      "Metrics computed: confidence, variability, correctness, forgetfulness, threshold_closeness\n"
     ]
    },
    {
     "name": "stderr",
     "output_type": "stream",
     "text": [
      "100%|███████████████████████████████████████████████████████████████████████████| 59899/59899 [00:07<00:00, 8084.93it/s]\n"
     ]
    },
    {
     "name": "stdout",
     "output_type": "stream",
     "text": [
      "Reading 19 files from /home/vamsi.srivathsa/pritam.k/hf_audit/overlap_cart/roberta/financial_phrasebank/training_dynamics ...\n"
     ]
    },
    {
     "name": "stderr",
     "output_type": "stream",
     "text": [
      "100%|███████████████████████████████████████████████████████████████████████████████████| 19/19 [00:00<00:00, 32.96it/s]\n"
     ]
    },
    {
     "name": "stdout",
     "output_type": "stream",
     "text": [
      "Read training dynamics for 4846 train instances.\n",
      "Computing training dynamics across 19 epochs\n",
      "Metrics computed: confidence, variability, correctness, forgetfulness, threshold_closeness\n"
     ]
    },
    {
     "name": "stderr",
     "output_type": "stream",
     "text": [
      "100%|█████████████████████████████████████████████████████████████████████████████| 4846/4846 [00:01<00:00, 2779.02it/s]\n"
     ]
    },
    {
     "name": "stdout",
     "output_type": "stream",
     "text": [
      "Reading 3 files from /home/vamsi.srivathsa/pritam.k/hf_audit/overlap_cart/xlnet/amazon_multi_reviews/training_dynamics ...\n"
     ]
    },
    {
     "name": "stderr",
     "output_type": "stream",
     "text": [
      "100%|█████████████████████████████████████████████████████████████████████████████████████| 3/3 [00:01<00:00,  1.81it/s]\n"
     ]
    },
    {
     "name": "stdout",
     "output_type": "stream",
     "text": [
      "Read training dynamics for 126000 train instances.\n",
      "Computing training dynamics across 3 epochs\n",
      "Metrics computed: confidence, variability, correctness, forgetfulness, threshold_closeness\n"
     ]
    },
    {
     "name": "stderr",
     "output_type": "stream",
     "text": [
      "100%|████████████████████████████████████████████████████████████████████████| 126000/126000 [00:10<00:00, 11561.26it/s]\n"
     ]
    },
    {
     "name": "stdout",
     "output_type": "stream",
     "text": [
      "Reading 5 files from /home/vamsi.srivathsa/pritam.k/hf_audit/overlap_cart/xlnet/tweet_eval/training_dynamics ...\n"
     ]
    },
    {
     "name": "stderr",
     "output_type": "stream",
     "text": [
      "100%|█████████████████████████████████████████████████████████████████████████████████████| 5/5 [00:01<00:00,  4.04it/s]\n"
     ]
    },
    {
     "name": "stdout",
     "output_type": "stream",
     "text": [
      "Read training dynamics for 59899 train instances.\n",
      "Computing training dynamics across 5 epochs\n",
      "Metrics computed: confidence, variability, correctness, forgetfulness, threshold_closeness\n"
     ]
    },
    {
     "name": "stderr",
     "output_type": "stream",
     "text": [
      "100%|███████████████████████████████████████████████████████████████████████████| 59899/59899 [00:07<00:00, 8247.20it/s]\n"
     ]
    },
    {
     "name": "stdout",
     "output_type": "stream",
     "text": [
      "Reading 19 files from /home/vamsi.srivathsa/pritam.k/hf_audit/overlap_cart/xlnet/financial_phrasebank/training_dynamics ...\n"
     ]
    },
    {
     "name": "stderr",
     "output_type": "stream",
     "text": [
      "100%|███████████████████████████████████████████████████████████████████████████████████| 19/19 [00:00<00:00, 77.61it/s]\n"
     ]
    },
    {
     "name": "stdout",
     "output_type": "stream",
     "text": [
      "Read training dynamics for 4846 train instances.\n",
      "Computing training dynamics across 19 epochs\n",
      "Metrics computed: confidence, variability, correctness, forgetfulness, threshold_closeness\n"
     ]
    },
    {
     "name": "stderr",
     "output_type": "stream",
     "text": [
      "100%|█████████████████████████████████████████████████████████████████████████████| 4846/4846 [00:01<00:00, 2925.65it/s]\n"
     ]
    }
   ],
   "source": [
    "# model_dir = \"/home/pritam.k/research/hf_audit/cart/financial_phrasebank/real_model/saved_tds/\"\n",
    "\n",
    "df_carts=[]\n",
    "\n",
    "for model in [\"albert\",\"bert\",\"roberta\",\"xlnet\"]:\n",
    "    df_carts_model=[]\n",
    "    for dataset in [\"amazon_multi_reviews\",\"tweet_eval\",\"financial_phrasebank\"]:\n",
    "        model_dir = f\"/home/vamsi.srivathsa/pritam.k/hf_audit/overlap_cart/{model}/{dataset}/\"\n",
    "        training_dynamics = read_training_dynamics(model_dir,\n",
    "                                                    strip_last=False,\n",
    "                                                    burn_out=None)\n",
    "        df_cart, _ = compute_train_dy_metrics(training_dynamics)\n",
    "        df_cart = df_cart.assign(corr_frac = lambda d: d.correctness / d.correctness.max())\n",
    "        df_cart['correct'] = [f\"{x:.2f}\" for x in df_cart['corr_frac']]\n",
    "\n",
    "        df_cart['correct'] = df_cart['correct'].astype(\"float64\")\n",
    "        df_cart[\"difficulty\"] = pd.cut(df_cart[\"correct\"], bins=[-1.0, 0.2, 0.8, 1.0], labels=[\"hard\", \"ambiguous\", \"easy\"]) \n",
    "        df_carts_model.append(df_cart)\n",
    "    df_carts.append(df_carts_model)"
   ]
  },
  {
   "cell_type": "code",
   "execution_count": 6,
   "metadata": {},
   "outputs": [],
   "source": [
    "model_list=[\"albert\",\"bert\",\"roberta\",\"xlnet\"]\n",
    "dataset_list=[\"amazon_multi_reviews\",\"tweet_eval\",\"financial_phrasebank\"]"
   ]
  },
  {
   "cell_type": "code",
   "execution_count": 24,
   "metadata": {},
   "outputs": [],
   "source": [
    "def num_intersection_list(list1, list2):  \n",
    "   return len(list(set(list1) & set(list2))) "
   ]
  },
  {
   "cell_type": "code",
   "execution_count": 25,
   "metadata": {},
   "outputs": [],
   "source": [
    "def overlap_percentage(xlist,ylist):\n",
    "    min1 = min(xlist)\n",
    "    max1 = max(xlist)\n",
    "    min2 = min(ylist)\n",
    "    max2 = max(ylist)\n",
    "\n",
    "    overlap = max(0,num_intersection_list(xlist, ylist) )\n",
    "    length = len(xlist) + len(ylist)\n",
    "    lengthx = len(xlist)\n",
    "    lengthy = len(ylist)\n",
    "\n",
    "    return 2*overlap/length , overlap/lengthx  , overlap/lengthy"
   ]
  },
  {
   "cell_type": "code",
   "execution_count": 51,
   "metadata": {},
   "outputs": [],
   "source": [
    "score=[]"
   ]
  },
  {
   "cell_type": "code",
   "execution_count": 52,
   "metadata": {},
   "outputs": [],
   "source": [
    "score.append((6236/8469 + 6234/8469 + 6268/8469)/3)"
   ]
  },
  {
   "cell_type": "code",
   "execution_count": 53,
   "metadata": {},
   "outputs": [],
   "source": [
    "score.append((4803/12479 + 4926/12479 + 5525/12479)/3)"
   ]
  },
  {
   "cell_type": "code",
   "execution_count": 54,
   "metadata": {},
   "outputs": [],
   "source": [
    "score.append((99113/105052 + 98370/105052 + 98161/105052)/3)"
   ]
  },
  {
   "cell_type": "code",
   "execution_count": 55,
   "metadata": {},
   "outputs": [],
   "source": [
    "score.append((4174/8093 + 4582/8093 + 5510/8093)/3)"
   ]
  },
  {
   "cell_type": "code",
   "execution_count": 56,
   "metadata": {},
   "outputs": [],
   "source": [
    "score.append((8140/16013 + 8233/16013 + 8695/16013)/3)"
   ]
  },
  {
   "cell_type": "code",
   "execution_count": 57,
   "metadata": {},
   "outputs": [],
   "source": [
    "score.append((29837/35793 + 29323/35793 + 28770/35793)/3)"
   ]
  },
  {
   "cell_type": "code",
   "execution_count": 58,
   "metadata": {},
   "outputs": [],
   "source": [
    "score.append((1/1 + 1/1 + 1/1)/3)"
   ]
  },
  {
   "cell_type": "code",
   "execution_count": 59,
   "metadata": {},
   "outputs": [],
   "source": [
    "score.append((85/163 + 124/163 + 140/163)/3)"
   ]
  },
  {
   "cell_type": "code",
   "execution_count": 60,
   "metadata": {},
   "outputs": [],
   "source": [
    "score.append((4602/4682 + 4360/4682 + 4184/4682)/3)"
   ]
  },
  {
   "cell_type": "code",
   "execution_count": 61,
   "metadata": {},
   "outputs": [
    {
     "name": "stdout",
     "output_type": "stream",
     "text": [
      "amazon_multi_reviews\n",
      "  hard\n",
      "    0.7375132837407014\n",
      "  ambiguous\n",
      "    0.40745786254240457\n",
      "  easy\n",
      "    0.938087804135095\n",
      "tweet_eval\n",
      "  hard\n",
      "    0.5875859796531983\n",
      "  ambiguous\n",
      "    0.5218260163617061\n",
      "  easy\n",
      "    0.818875199061269\n",
      "financial_phrasebank\n",
      "  hard\n",
      "    1.0\n",
      "  ambiguous\n",
      "    0.7137014314928426\n",
      "  easy\n",
      "    0.9359248184536524\n"
     ]
    }
   ],
   "source": [
    "c=0\n",
    "for ds in dataset_list:\n",
    "    print(ds)\n",
    "    for diff in [\"hard\", \"ambiguous\", \"easy\"]:\n",
    "        print(f\"  {diff}\")\n",
    "        print(f\"    {score[c]}\")\n",
    "        c+=1"
   ]
  },
  {
   "cell_type": "code",
   "execution_count": 41,
   "metadata": {},
   "outputs": [],
   "source": [
    "def cal_similarity(model_list,dataset_list,i,j):\n",
    "    m1=model_list[i]\n",
    "    m2=model_list[j]\n",
    "    model1=df_carts[i]\n",
    "    model2=df_carts[j]\n",
    "    print(f\"BETWEEN {m1.upper()} and {m2.upper()}\")\n",
    "    for k in [0,1,2]:\n",
    "        ds=dataset_list[k]\n",
    "        print(f\" {ds}\")\n",
    "        df1=model1[k]\n",
    "        df2=model2[k]\n",
    "        for diff in [\"hard\", \"ambiguous\", \"easy\"]:\n",
    "            print(f\"  {diff}\")\n",
    "            list_1=df1[df1[\"difficulty\"]==diff][\"guid\"].tolist()\n",
    "            list_2=df2[df2[\"difficulty\"]==diff][\"guid\"].tolist()\n",
    "            print(f\"    instances in {m1} are {len(list_1)}\")\n",
    "            print(f\"    instances in {m2} are {len(list_2)}\")\n",
    "            print(f\"    instances in intersection of {m1} and {m2} are {num_intersection_list(list_1,list_2)}\")            "
   ]
  },
  {
   "cell_type": "code",
   "execution_count": 44,
   "metadata": {},
   "outputs": [
    {
     "name": "stdout",
     "output_type": "stream",
     "text": [
      "BETWEEN ALBERT and ROBERTA\n",
      " amazon_multi_reviews\n",
      "  hard\n",
      "    instances in albert are 8765\n",
      "    instances in roberta are 8469\n",
      "    instances in intersection of albert and roberta are 6236\n",
      "  ambiguous\n",
      "    instances in albert are 12091\n",
      "    instances in roberta are 12479\n",
      "    instances in intersection of albert and roberta are 4803\n",
      "  easy\n",
      "    instances in albert are 105144\n",
      "    instances in roberta are 105052\n",
      "    instances in intersection of albert and roberta are 99113\n",
      " tweet_eval\n",
      "  hard\n",
      "    instances in albert are 6312\n",
      "    instances in roberta are 8093\n",
      "    instances in intersection of albert and roberta are 4174\n",
      "  ambiguous\n",
      "    instances in albert are 17247\n",
      "    instances in roberta are 16013\n",
      "    instances in intersection of albert and roberta are 8140\n",
      "  easy\n",
      "    instances in albert are 36340\n",
      "    instances in roberta are 35793\n",
      "    instances in intersection of albert and roberta are 29837\n",
      " financial_phrasebank\n",
      "  hard\n",
      "    instances in albert are 4\n",
      "    instances in roberta are 1\n",
      "    instances in intersection of albert and roberta are 1\n",
      "  ambiguous\n",
      "    instances in albert are 165\n",
      "    instances in roberta are 163\n",
      "    instances in intersection of albert and roberta are 85\n",
      "  easy\n",
      "    instances in albert are 4677\n",
      "    instances in roberta are 4682\n",
      "    instances in intersection of albert and roberta are 4602\n"
     ]
    }
   ],
   "source": [
    "cal_similarity(model_list,dataset_list,0,2)"
   ]
  },
  {
   "cell_type": "code",
   "execution_count": 45,
   "metadata": {},
   "outputs": [
    {
     "name": "stdout",
     "output_type": "stream",
     "text": [
      "BETWEEN BERT and ROBERTA\n",
      " amazon_multi_reviews\n",
      "  hard\n",
      "    instances in bert are 8988\n",
      "    instances in roberta are 8469\n",
      "    instances in intersection of bert and roberta are 6234\n",
      "  ambiguous\n",
      "    instances in bert are 12914\n",
      "    instances in roberta are 12479\n",
      "    instances in intersection of bert and roberta are 4926\n",
      "  easy\n",
      "    instances in bert are 104098\n",
      "    instances in roberta are 105052\n",
      "    instances in intersection of bert and roberta are 98370\n",
      " tweet_eval\n",
      "  hard\n",
      "    instances in bert are 6892\n",
      "    instances in roberta are 8093\n",
      "    instances in intersection of bert and roberta are 4582\n",
      "  ambiguous\n",
      "    instances in bert are 17506\n",
      "    instances in roberta are 16013\n",
      "    instances in intersection of bert and roberta are 8233\n",
      "  easy\n",
      "    instances in bert are 35501\n",
      "    instances in roberta are 35793\n",
      "    instances in intersection of bert and roberta are 29323\n",
      " financial_phrasebank\n",
      "  hard\n",
      "    instances in bert are 11\n",
      "    instances in roberta are 1\n",
      "    instances in intersection of bert and roberta are 1\n",
      "  ambiguous\n",
      "    instances in bert are 444\n",
      "    instances in roberta are 163\n",
      "    instances in intersection of bert and roberta are 124\n",
      "  easy\n",
      "    instances in bert are 4391\n",
      "    instances in roberta are 4682\n",
      "    instances in intersection of bert and roberta are 4360\n"
     ]
    }
   ],
   "source": [
    "cal_similarity(model_list,dataset_list,1,2)"
   ]
  },
  {
   "cell_type": "code",
   "execution_count": 46,
   "metadata": {},
   "outputs": [
    {
     "name": "stdout",
     "output_type": "stream",
     "text": [
      "BETWEEN ROBERTA and XLNET\n",
      " amazon_multi_reviews\n",
      "  hard\n",
      "    instances in roberta are 8469\n",
      "    instances in xlnet are 8632\n",
      "    instances in intersection of roberta and xlnet are 6268\n",
      "  ambiguous\n",
      "    instances in roberta are 12479\n",
      "    instances in xlnet are 13998\n",
      "    instances in intersection of roberta and xlnet are 5525\n",
      "  easy\n",
      "    instances in roberta are 105052\n",
      "    instances in xlnet are 103370\n",
      "    instances in intersection of roberta and xlnet are 98161\n",
      " tweet_eval\n",
      "  hard\n",
      "    instances in roberta are 8093\n",
      "    instances in xlnet are 8500\n",
      "    instances in intersection of roberta and xlnet are 5510\n",
      "  ambiguous\n",
      "    instances in roberta are 16013\n",
      "    instances in xlnet are 17800\n",
      "    instances in intersection of roberta and xlnet are 8695\n",
      "  easy\n",
      "    instances in roberta are 35793\n",
      "    instances in xlnet are 33599\n",
      "    instances in intersection of roberta and xlnet are 28770\n",
      " financial_phrasebank\n",
      "  hard\n",
      "    instances in roberta are 1\n",
      "    instances in xlnet are 20\n",
      "    instances in intersection of roberta and xlnet are 1\n",
      "  ambiguous\n",
      "    instances in roberta are 163\n",
      "    instances in xlnet are 635\n",
      "    instances in intersection of roberta and xlnet are 140\n",
      "  easy\n",
      "    instances in roberta are 4682\n",
      "    instances in xlnet are 4191\n",
      "    instances in intersection of roberta and xlnet are 4181\n"
     ]
    }
   ],
   "source": [
    "cal_similarity(model_list,dataset_list,2,3)"
   ]
  },
  {
   "cell_type": "code",
   "execution_count": 102,
   "metadata": {},
   "outputs": [
    {
     "name": "stdout",
     "output_type": "stream",
     "text": [
      "tweet_eval -- easy:7271, ambi:3355, hard:1658\n",
      "amazon_multi_reviews -- easy:2467, ambi:314, hard:219\n"
     ]
    }
   ],
   "source": [
    "# these instances are of test splits\n",
    "\n",
    "df_easy_test = pd.read_csv(\"/home/pritam.k/research/hf_audit/data/tweet_eval/difficulty_test_instances/df_easy_test.csv\")\n",
    "df_ambi_test = pd.read_csv(\"/home/pritam.k/research/hf_audit/data/tweet_eval/difficulty_test_instances/df_ambi_test.csv\")\n",
    "df_hard_test = pd.read_csv(\"/home/pritam.k/research/hf_audit/data/tweet_eval/difficulty_test_instances/df_hard_test.csv\")\n",
    "\n",
    "print(f\"tweet_eval -- easy:{len(df_easy_test)}, ambi:{len(df_ambi_test)}, hard:{len(df_hard_test)}\")\n",
    "\n",
    "\n",
    "df_easy_test = pd.read_csv(\"/home/pritam.k/research/hf_audit/data/amazon_multi_reviews/difficulty_test_instances/df_easy_test.csv\")\n",
    "df_ambi_test = pd.read_csv(\"/home/pritam.k/research/hf_audit/data/amazon_multi_reviews/difficulty_test_instances/df_ambi_test.csv\")\n",
    "df_hard_test = pd.read_csv(\"/home/pritam.k/research/hf_audit/data/amazon_multi_reviews/difficulty_test_instances/df_hard_test.csv\")\n",
    "\n",
    "print(f\"amazon_multi_reviews -- easy:{len(df_easy_test)}, ambi:{len(df_ambi_test)}, hard:{len(df_hard_test)}\")\n",
    "\n",
    "\n",
    "df_easy_test = pd.read_csv(\"/home/pritam.k/research/hf_audit/data/financial_phrasebank/difficulty_test_instances/df_easy_test.csv\")\n",
    "# df_ambi_test = pd.read_csv(\"/home/pritam.k/research/hf_audit/data/financial_phrasebank/difficulty_test_instances/df_ambi_test.csv\")\n",
    "# df_hard_test = pd.read_csv(\"/home/pritam.k/research/hf_audit/data/financial_phrasebank/difficulty_test_instances/df_hard_test.csv\")\n",
    "\n",
    "# print(f\"financial_phrasebank -- easy:{}, ambi:{}, hard:{}\")"
   ]
  },
  {
   "cell_type": "code",
   "execution_count": 33,
   "metadata": {},
   "outputs": [
    {
     "data": {
      "text/plain": [
       "0.740110993033416"
      ]
     },
     "execution_count": 33,
     "metadata": {},
     "output_type": "execute_result"
    }
   ],
   "source": [
    "6268/8469"
   ]
  },
  {
   "cell_type": "code",
   "execution_count": null,
   "metadata": {},
   "outputs": [],
   "source": [
    "print(\"ama\")\n",
    "print(\"  hard\")\n",
    "print()"
   ]
  },
  {
   "cell_type": "code",
   "execution_count": 100,
   "metadata": {},
   "outputs": [
    {
     "name": "stdout",
     "output_type": "stream",
     "text": [
      "<class 'pandas.core.frame.DataFrame'>\n",
      "RangeIndex: 944 entries, 0 to 943\n",
      "Data columns (total 4 columns):\n",
      " #   Column  Non-Null Count  Dtype \n",
      "---  ------  --------------  ----- \n",
      " 0   idx     944 non-null    int64 \n",
      " 1   split   944 non-null    object\n",
      " 2   text    944 non-null    object\n",
      " 3   label   944 non-null    int64 \n",
      "dtypes: int64(2), object(2)\n",
      "memory usage: 29.6+ KB\n"
     ]
    }
   ],
   "source": [
    "df_easy_test.info()"
   ]
  },
  {
   "cell_type": "code",
   "execution_count": 84,
   "metadata": {},
   "outputs": [
    {
     "data": {
      "text/html": [
       "<div>\n",
       "<style scoped>\n",
       "    .dataframe tbody tr th:only-of-type {\n",
       "        vertical-align: middle;\n",
       "    }\n",
       "\n",
       "    .dataframe tbody tr th {\n",
       "        vertical-align: top;\n",
       "    }\n",
       "\n",
       "    .dataframe thead th {\n",
       "        text-align: right;\n",
       "    }\n",
       "</style>\n",
       "<table border=\"1\" class=\"dataframe\">\n",
       "  <thead>\n",
       "    <tr style=\"text-align: right;\">\n",
       "      <th></th>\n",
       "      <th>guid</th>\n",
       "      <th>index</th>\n",
       "      <th>threshold_closeness</th>\n",
       "      <th>confidence</th>\n",
       "      <th>variability</th>\n",
       "      <th>correctness</th>\n",
       "      <th>forgetfulness</th>\n",
       "      <th>corr_frac</th>\n",
       "      <th>correct</th>\n",
       "    </tr>\n",
       "  </thead>\n",
       "  <tbody>\n",
       "    <tr>\n",
       "      <th>0</th>\n",
       "      <td>1349</td>\n",
       "      <td>0</td>\n",
       "      <td>0.035230</td>\n",
       "      <td>0.963433</td>\n",
       "      <td>0.144437</td>\n",
       "      <td>19</td>\n",
       "      <td>0</td>\n",
       "      <td>1.000000</td>\n",
       "      <td>1.00</td>\n",
       "    </tr>\n",
       "    <tr>\n",
       "      <th>1</th>\n",
       "      <td>4269</td>\n",
       "      <td>1</td>\n",
       "      <td>0.080483</td>\n",
       "      <td>0.911725</td>\n",
       "      <td>0.222046</td>\n",
       "      <td>17</td>\n",
       "      <td>0</td>\n",
       "      <td>0.894737</td>\n",
       "      <td>0.89</td>\n",
       "    </tr>\n",
       "    <tr>\n",
       "      <th>2</th>\n",
       "      <td>1295</td>\n",
       "      <td>2</td>\n",
       "      <td>0.103460</td>\n",
       "      <td>0.882805</td>\n",
       "      <td>0.212432</td>\n",
       "      <td>17</td>\n",
       "      <td>0</td>\n",
       "      <td>0.894737</td>\n",
       "      <td>0.89</td>\n",
       "    </tr>\n",
       "    <tr>\n",
       "      <th>3</th>\n",
       "      <td>3939</td>\n",
       "      <td>3</td>\n",
       "      <td>0.039729</td>\n",
       "      <td>0.958554</td>\n",
       "      <td>0.149578</td>\n",
       "      <td>18</td>\n",
       "      <td>0</td>\n",
       "      <td>0.947368</td>\n",
       "      <td>0.95</td>\n",
       "    </tr>\n",
       "    <tr>\n",
       "      <th>4</th>\n",
       "      <td>1261</td>\n",
       "      <td>4</td>\n",
       "      <td>0.077963</td>\n",
       "      <td>0.914773</td>\n",
       "      <td>0.191234</td>\n",
       "      <td>17</td>\n",
       "      <td>0</td>\n",
       "      <td>0.894737</td>\n",
       "      <td>0.89</td>\n",
       "    </tr>\n",
       "    <tr>\n",
       "      <th>5</th>\n",
       "      <td>189</td>\n",
       "      <td>5</td>\n",
       "      <td>0.039259</td>\n",
       "      <td>0.959065</td>\n",
       "      <td>0.142506</td>\n",
       "      <td>19</td>\n",
       "      <td>0</td>\n",
       "      <td>1.000000</td>\n",
       "      <td>1.00</td>\n",
       "    </tr>\n",
       "    <tr>\n",
       "      <th>6</th>\n",
       "      <td>4255</td>\n",
       "      <td>6</td>\n",
       "      <td>0.038149</td>\n",
       "      <td>0.960272</td>\n",
       "      <td>0.148491</td>\n",
       "      <td>18</td>\n",
       "      <td>0</td>\n",
       "      <td>0.947368</td>\n",
       "      <td>0.95</td>\n",
       "    </tr>\n",
       "    <tr>\n",
       "      <th>7</th>\n",
       "      <td>3180</td>\n",
       "      <td>7</td>\n",
       "      <td>0.036260</td>\n",
       "      <td>0.962320</td>\n",
       "      <td>0.149243</td>\n",
       "      <td>18</td>\n",
       "      <td>0</td>\n",
       "      <td>0.947368</td>\n",
       "      <td>0.95</td>\n",
       "    </tr>\n",
       "    <tr>\n",
       "      <th>8</th>\n",
       "      <td>2633</td>\n",
       "      <td>8</td>\n",
       "      <td>0.035046</td>\n",
       "      <td>0.963631</td>\n",
       "      <td>0.144360</td>\n",
       "      <td>19</td>\n",
       "      <td>0</td>\n",
       "      <td>1.000000</td>\n",
       "      <td>1.00</td>\n",
       "    </tr>\n",
       "    <tr>\n",
       "      <th>9</th>\n",
       "      <td>2807</td>\n",
       "      <td>9</td>\n",
       "      <td>0.036746</td>\n",
       "      <td>0.961794</td>\n",
       "      <td>0.150594</td>\n",
       "      <td>18</td>\n",
       "      <td>0</td>\n",
       "      <td>0.947368</td>\n",
       "      <td>0.95</td>\n",
       "    </tr>\n",
       "  </tbody>\n",
       "</table>\n",
       "</div>"
      ],
      "text/plain": [
       "   guid  index  threshold_closeness  confidence  variability  correctness  \\\n",
       "0  1349      0             0.035230    0.963433     0.144437           19   \n",
       "1  4269      1             0.080483    0.911725     0.222046           17   \n",
       "2  1295      2             0.103460    0.882805     0.212432           17   \n",
       "3  3939      3             0.039729    0.958554     0.149578           18   \n",
       "4  1261      4             0.077963    0.914773     0.191234           17   \n",
       "5   189      5             0.039259    0.959065     0.142506           19   \n",
       "6  4255      6             0.038149    0.960272     0.148491           18   \n",
       "7  3180      7             0.036260    0.962320     0.149243           18   \n",
       "8  2633      8             0.035046    0.963631     0.144360           19   \n",
       "9  2807      9             0.036746    0.961794     0.150594           18   \n",
       "\n",
       "   forgetfulness  corr_frac  correct  \n",
       "0              0   1.000000     1.00  \n",
       "1              0   0.894737     0.89  \n",
       "2              0   0.894737     0.89  \n",
       "3              0   0.947368     0.95  \n",
       "4              0   0.894737     0.89  \n",
       "5              0   1.000000     1.00  \n",
       "6              0   0.947368     0.95  \n",
       "7              0   0.947368     0.95  \n",
       "8              0   1.000000     1.00  \n",
       "9              0   0.947368     0.95  "
      ]
     },
     "execution_count": 84,
     "metadata": {},
     "output_type": "execute_result"
    }
   ],
   "source": [
    "df_cart.head(10)"
   ]
  },
  {
   "cell_type": "code",
   "execution_count": 85,
   "metadata": {
    "scrolled": true
   },
   "outputs": [
    {
     "name": "stdout",
     "output_type": "stream",
     "text": [
      "<class 'pandas.core.frame.DataFrame'>\n",
      "RangeIndex: 4846 entries, 0 to 4845\n",
      "Data columns (total 9 columns):\n",
      " #   Column               Non-Null Count  Dtype  \n",
      "---  ------               --------------  -----  \n",
      " 0   guid                 4846 non-null   int64  \n",
      " 1   index                4846 non-null   int64  \n",
      " 2   threshold_closeness  4846 non-null   float64\n",
      " 3   confidence           4846 non-null   float64\n",
      " 4   variability          4846 non-null   float64\n",
      " 5   correctness          4846 non-null   int64  \n",
      " 6   forgetfulness        4846 non-null   int64  \n",
      " 7   corr_frac            4846 non-null   float64\n",
      " 8   correct              4846 non-null   float64\n",
      "dtypes: float64(5), int64(4)\n",
      "memory usage: 340.9 KB\n"
     ]
    }
   ],
   "source": [
    "df_cart.info()"
   ]
  },
  {
   "cell_type": "code",
   "execution_count": 109,
   "metadata": {},
   "outputs": [],
   "source": [
    "df = df_cart\n",
    "df[\"difficulty\"] = pd.cut(df[\"correct\"], bins=[-1.0, 0.2, 0.8, 1.0], labels=[\"hard\", \"ambiguous\", \"easy\"])"
   ]
  },
  {
   "cell_type": "code",
   "execution_count": 110,
   "metadata": {},
   "outputs": [
    {
     "data": {
      "text/plain": [
       "difficulty\n",
       "easy         35793\n",
       "ambiguous    16013\n",
       "hard          8093\n",
       "Name: count, dtype: int64"
      ]
     },
     "execution_count": 110,
     "metadata": {},
     "output_type": "execute_result"
    }
   ],
   "source": [
    "df['difficulty'].value_counts() #te"
   ]
  },
  {
   "cell_type": "code",
   "execution_count": 91,
   "metadata": {},
   "outputs": [
    {
     "data": {
      "text/plain": [
       "difficulty\n",
       "easy         4682\n",
       "ambiguous     163\n",
       "hard            1\n",
       "Name: count, dtype: int64"
      ]
     },
     "execution_count": 91,
     "metadata": {},
     "output_type": "execute_result"
    }
   ],
   "source": [
    "# (e:105052, a:12479, h:8469) -- amr\n",
    "\n",
    "df['difficulty'].value_counts() #FP"
   ]
  },
  {
   "cell_type": "code",
   "execution_count": 26,
   "metadata": {},
   "outputs": [
    {
     "data": {
      "image/png": "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",
      "text/plain": [
       "<Figure size 800x800 with 1 Axes>"
      ]
     },
     "metadata": {},
     "output_type": "display_data"
    }
   ],
   "source": [
    "import pandas as pd\n",
    "import seaborn as sns\n",
    "import matplotlib.pyplot as plt\n",
    "\n",
    "df = df_cart  # Assuming you want to plot the first DataFrame from the list\n",
    "\n",
    "# Define custom markers for each difficulty level\n",
    "custom_markers = {'hard': 'X', 'ambiguous': '^', 'easy': 'P'}\n",
    "\n",
    "# Define your custom color palette\n",
    "palette = {\"hard\": \"salmon\", \"ambiguous\": \"turquoise\", \"easy\": \"cornflowerblue\"}\n",
    "\n",
    "fig, ax = plt.subplots(figsize=(8, 8))\n",
    "\n",
    "df[\"difficulty\"] = pd.cut(df[\"correct\"], bins=[-1.0, 0.2, 0.8, 1.0], labels=[\"hard\", \"ambiguous\", \"easy\"])\n",
    "\n",
    "# Use Seaborn scatterplot with style for markers and hue for colors\n",
    "sns.scatterplot(\n",
    "    data=df,\n",
    "    x=\"variability\",\n",
    "    y=\"confidence\",\n",
    "    hue=\"difficulty\",\n",
    "    style=\"difficulty\",  # Style parameter assigns different markers to each difficulty level\n",
    "    palette=palette,     # Color palette for different difficulty levels\n",
    "    markers=custom_markers,  # Assign custom markers to each difficulty level\n",
    "    ax=ax\n",
    ")\n",
    "\n",
    "ax.set_title(\"Financial Phrasebank\")\n",
    "#ax.tick_params(labelsize=16)\n",
    "ax.set_ylabel(\"confidence\",)\n",
    "ax.set_xlabel(\"variability\")\n",
    "ax.grid(False)\n",
    "ax.legend()\n",
    "plt.savefig(\"../figures/financial_phrasebank_cart.pdf\", dpi=300)\n",
    "plt.show()\n"
   ]
  },
  {
   "cell_type": "code",
   "execution_count": 9,
   "metadata": {},
   "outputs": [
    {
     "name": "stdout",
     "output_type": "stream",
     "text": [
      "<class 'pandas.core.frame.DataFrame'>\n",
      "RangeIndex: 126000 entries, 0 to 125999\n",
      "Data columns (total 10 columns):\n",
      " #   Column               Non-Null Count   Dtype   \n",
      "---  ------               --------------   -----   \n",
      " 0   guid                 126000 non-null  int64   \n",
      " 1   index                126000 non-null  int64   \n",
      " 2   threshold_closeness  126000 non-null  float64 \n",
      " 3   confidence           126000 non-null  float64 \n",
      " 4   variability          126000 non-null  float64 \n",
      " 5   correctness          126000 non-null  int64   \n",
      " 6   forgetfulness        126000 non-null  int64   \n",
      " 7   corr_frac            126000 non-null  float64 \n",
      " 8   correct              126000 non-null  float64 \n",
      " 9   difficulty           126000 non-null  category\n",
      "dtypes: category(1), float64(5), int64(4)\n",
      "memory usage: 8.8 MB\n"
     ]
    }
   ],
   "source": [
    "df.info()"
   ]
  },
  {
   "cell_type": "code",
   "execution_count": 5,
   "metadata": {},
   "outputs": [],
   "source": [
    "metric = evaluate.load(\"f1\")"
   ]
  },
  {
   "cell_type": "code",
   "execution_count": 6,
   "metadata": {
    "scrolled": true
   },
   "outputs": [
    {
     "name": "stdout",
     "output_type": "stream",
     "text": [
      "EvaluationModule(name: \"f1\", module_type: \"metric\", features: {'predictions': Value(dtype='int32', id=None), 'references': Value(dtype='int32', id=None)}, usage: \"\"\"\n",
      "Args:\n",
      "    predictions (`list` of `int`): Predicted labels.\n",
      "    references (`list` of `int`): Ground truth labels.\n",
      "    labels (`list` of `int`): The set of labels to include when `average` is not set to `'binary'`, and the order of the labels if `average` is `None`. Labels present in the data can be excluded, for example to calculate a multiclass average ignoring a majority negative class. Labels not present in the data will result in 0 components in a macro average. For multilabel targets, labels are column indices. By default, all labels in `predictions` and `references` are used in sorted order. Defaults to None.\n",
      "    pos_label (`int`): The class to be considered the positive class, in the case where `average` is set to `binary`. Defaults to 1.\n",
      "    average (`string`): This parameter is required for multiclass/multilabel targets. If set to `None`, the scores for each class are returned. Otherwise, this determines the type of averaging performed on the data. Defaults to `'binary'`.\n",
      "\n",
      "        - 'binary': Only report results for the class specified by `pos_label`. This is applicable only if the classes found in `predictions` and `references` are binary.\n",
      "        - 'micro': Calculate metrics globally by counting the total true positives, false negatives and false positives.\n",
      "        - 'macro': Calculate metrics for each label, and find their unweighted mean. This does not take label imbalance into account.\n",
      "        - 'weighted': Calculate metrics for each label, and find their average weighted by support (the number of true instances for each label). This alters `'macro'` to account for label imbalance. This option can result in an F-score that is not between precision and recall.\n",
      "        - 'samples': Calculate metrics for each instance, and find their average (only meaningful for multilabel classification).\n",
      "    sample_weight (`list` of `float`): Sample weights Defaults to None.\n",
      "\n",
      "Returns:\n",
      "    f1 (`float` or `array` of `float`): F1 score or list of f1 scores, depending on the value passed to `average`. Minimum possible value is 0. Maximum possible value is 1. Higher f1 scores are better.\n",
      "\n",
      "Examples:\n",
      "\n",
      "    Example 1-A simple binary example\n",
      "        >>> f1_metric = evaluate.load(\"f1\")\n",
      "        >>> results = f1_metric.compute(references=[0, 1, 0, 1, 0], predictions=[0, 0, 1, 1, 0])\n",
      "        >>> print(results)\n",
      "        {'f1': 0.5}\n",
      "\n",
      "    Example 2-The same simple binary example as in Example 1, but with `pos_label` set to `0`.\n",
      "        >>> f1_metric = evaluate.load(\"f1\")\n",
      "        >>> results = f1_metric.compute(references=[0, 1, 0, 1, 0], predictions=[0, 0, 1, 1, 0], pos_label=0)\n",
      "        >>> print(round(results['f1'], 2))\n",
      "        0.67\n",
      "\n",
      "    Example 3-The same simple binary example as in Example 1, but with `sample_weight` included.\n",
      "        >>> f1_metric = evaluate.load(\"f1\")\n",
      "        >>> results = f1_metric.compute(references=[0, 1, 0, 1, 0], predictions=[0, 0, 1, 1, 0], sample_weight=[0.9, 0.5, 3.9, 1.2, 0.3])\n",
      "        >>> print(round(results['f1'], 2))\n",
      "        0.35\n",
      "\n",
      "    Example 4-A multiclass example, with different values for the `average` input.\n",
      "        >>> predictions = [0, 2, 1, 0, 0, 1]\n",
      "        >>> references = [0, 1, 2, 0, 1, 2]\n",
      "        >>> results = f1_metric.compute(predictions=predictions, references=references, average=\"macro\")\n",
      "        >>> print(round(results['f1'], 2))\n",
      "        0.27\n",
      "        >>> results = f1_metric.compute(predictions=predictions, references=references, average=\"micro\")\n",
      "        >>> print(round(results['f1'], 2))\n",
      "        0.33\n",
      "        >>> results = f1_metric.compute(predictions=predictions, references=references, average=\"weighted\")\n",
      "        >>> print(round(results['f1'], 2))\n",
      "        0.27\n",
      "        >>> results = f1_metric.compute(predictions=predictions, references=references, average=None)\n",
      "        >>> print(results)\n",
      "        {'f1': array([0.8, 0. , 0. ])}\n",
      "\n",
      "    Example 5-A multi-label example\n",
      "        >>> f1_metric = evaluate.load(\"f1\", \"multilabel\")\n",
      "        >>> results = f1_metric.compute(predictions=[[0, 1, 1], [1, 1, 0]], references=[[0, 1, 1], [0, 1, 0]], average=\"macro\")\n",
      "        >>> print(round(results['f1'], 2))\n",
      "        0.67\n",
      "\"\"\", stored examples: 0)\n"
     ]
    }
   ],
   "source": [
    "print(metric)"
   ]
  },
  {
   "cell_type": "code",
   "execution_count": null,
   "metadata": {},
   "outputs": [],
   "source": [
    "results = f1_metric.compute(references=[0, 1, 2, 0, 1, 2], predictions=[0, 1, 1, 2, 1, 0], \"multilabel\")"
   ]
  },
  {
   "cell_type": "code",
   "execution_count": 3,
   "metadata": {},
   "outputs": [],
   "source": [
    "df_pvi = pd.read_csv(\"/home/pritam.k/research/hf_audit/results/saved_pvis/df_pvi.tsv\", sep=\"\\t\")"
   ]
  },
  {
   "cell_type": "code",
   "execution_count": 4,
   "metadata": {},
   "outputs": [
    {
     "data": {
      "text/html": [
       "<div>\n",
       "<style scoped>\n",
       "    .dataframe tbody tr th:only-of-type {\n",
       "        vertical-align: middle;\n",
       "    }\n",
       "\n",
       "    .dataframe tbody tr th {\n",
       "        vertical-align: top;\n",
       "    }\n",
       "\n",
       "    .dataframe thead th {\n",
       "        text-align: right;\n",
       "    }\n",
       "</style>\n",
       "<table border=\"1\" class=\"dataframe\">\n",
       "  <thead>\n",
       "    <tr style=\"text-align: right;\">\n",
       "      <th></th>\n",
       "      <th>idx</th>\n",
       "      <th>null_entropies</th>\n",
       "      <th>entropies</th>\n",
       "      <th>is_correct</th>\n",
       "      <th>predictions</th>\n",
       "      <th>PVI</th>\n",
       "    </tr>\n",
       "  </thead>\n",
       "  <tbody>\n",
       "    <tr>\n",
       "      <th>0</th>\n",
       "      <td>47615</td>\n",
       "      <td>1.115952</td>\n",
       "      <td>2.712735</td>\n",
       "      <td>False</td>\n",
       "      <td>0</td>\n",
       "      <td>-1.596783</td>\n",
       "    </tr>\n",
       "    <tr>\n",
       "      <th>1</th>\n",
       "      <td>47616</td>\n",
       "      <td>1.115952</td>\n",
       "      <td>0.008949</td>\n",
       "      <td>True</td>\n",
       "      <td>1</td>\n",
       "      <td>1.107003</td>\n",
       "    </tr>\n",
       "    <tr>\n",
       "      <th>2</th>\n",
       "      <td>47617</td>\n",
       "      <td>1.115952</td>\n",
       "      <td>1.526653</td>\n",
       "      <td>False</td>\n",
       "      <td>0</td>\n",
       "      <td>-0.410701</td>\n",
       "    </tr>\n",
       "    <tr>\n",
       "      <th>3</th>\n",
       "      <td>47618</td>\n",
       "      <td>1.342807</td>\n",
       "      <td>0.016497</td>\n",
       "      <td>True</td>\n",
       "      <td>2</td>\n",
       "      <td>1.326310</td>\n",
       "    </tr>\n",
       "    <tr>\n",
       "      <th>4</th>\n",
       "      <td>47619</td>\n",
       "      <td>2.792252</td>\n",
       "      <td>0.815863</td>\n",
       "      <td>True</td>\n",
       "      <td>0</td>\n",
       "      <td>1.976389</td>\n",
       "    </tr>\n",
       "  </tbody>\n",
       "</table>\n",
       "</div>"
      ],
      "text/plain": [
       "     idx  null_entropies  entropies  is_correct  predictions       PVI\n",
       "0  47615        1.115952   2.712735       False            0 -1.596783\n",
       "1  47616        1.115952   0.008949        True            1  1.107003\n",
       "2  47617        1.115952   1.526653       False            0 -0.410701\n",
       "3  47618        1.342807   0.016497        True            2  1.326310\n",
       "4  47619        2.792252   0.815863        True            0  1.976389"
      ]
     },
     "execution_count": 4,
     "metadata": {},
     "output_type": "execute_result"
    }
   ],
   "source": [
    "df_pvi.head()"
   ]
  },
  {
   "cell_type": "code",
   "execution_count": 5,
   "metadata": {},
   "outputs": [
    {
     "name": "stdout",
     "output_type": "stream",
     "text": [
      "<class 'pandas.core.frame.DataFrame'>\n",
      "RangeIndex: 12284 entries, 0 to 12283\n",
      "Data columns (total 6 columns):\n",
      " #   Column          Non-Null Count  Dtype  \n",
      "---  ------          --------------  -----  \n",
      " 0   idx             12284 non-null  int64  \n",
      " 1   null_entropies  12284 non-null  float64\n",
      " 2   entropies       12284 non-null  float64\n",
      " 3   is_correct      12284 non-null  bool   \n",
      " 4   predictions     12284 non-null  int64  \n",
      " 5   PVI             12284 non-null  float64\n",
      "dtypes: bool(1), float64(3), int64(2)\n",
      "memory usage: 492.0 KB\n"
     ]
    }
   ],
   "source": [
    "df_pvi.info()"
   ]
  },
  {
   "cell_type": "code",
   "execution_count": 41,
   "metadata": {},
   "outputs": [
    {
     "data": {
      "image/png": "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",
      "text/plain": [
       "<Figure size 834.875x500 with 1 Axes>"
      ]
     },
     "metadata": {},
     "output_type": "display_data"
    }
   ],
   "source": [
    "import seaborn as sns\n",
    "import matplotlib.pyplot as plt\n",
    "\n",
    "# sns.displot(data=df_pvi, x='PVI', hue='is_correct', kind='kde', fill=True, palette=sns.color_palette('bright')[:3], height=5, aspect=1.5)\n",
    "sns.displot(data=df_pvi, x='PVI', hue='is_correct', palette=sns.color_palette('bright')[:2], height=5, aspect=1.5)\n",
    "plt.savefig(\"./figures/vinfo_models.pdf\", dpi=300)\n"
   ]
  },
  {
   "cell_type": "code",
   "execution_count": 136,
   "metadata": {},
   "outputs": [
    {
     "data": {
      "text/plain": [
       "<seaborn.axisgrid.FacetGrid at 0x7f39dc73ef10>"
      ]
     },
     "execution_count": 136,
     "metadata": {},
     "output_type": "execute_result"
    },
    {
     "data": {
      "image/png": "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",
      "text/plain": [
       "<Figure size 834.875x500 with 1 Axes>"
      ]
     },
     "metadata": {},
     "output_type": "display_data"
    }
   ],
   "source": [
    "import seaborn as sns \n",
    "\n",
    "# sns.displot(data=df_pvi, x='PVI', hue='is_correct', kind='kde', fill=True, palette=sns.color_palette('bright')[:3], height=5, aspect=1.5)\n",
    "sns.displot(data=df_pvi, x='PVI', hue='is_correct', palette=sns.color_palette('bright')[:2], height=5, aspect=1.5)\n",
    "\n"
   ]
  },
  {
   "cell_type": "code",
   "execution_count": 13,
   "metadata": {},
   "outputs": [],
   "source": [
    "df_neg_pvi = df_pvi[df_pvi['PVI'] < 0]"
   ]
  },
  {
   "cell_type": "code",
   "execution_count": 14,
   "metadata": {},
   "outputs": [
    {
     "name": "stdout",
     "output_type": "stream",
     "text": [
      "<class 'pandas.core.frame.DataFrame'>\n",
      "Index: 3198 entries, 0 to 12280\n",
      "Data columns (total 6 columns):\n",
      " #   Column          Non-Null Count  Dtype  \n",
      "---  ------          --------------  -----  \n",
      " 0   idx             3198 non-null   int64  \n",
      " 1   null_entropies  3198 non-null   float64\n",
      " 2   entropies       3198 non-null   float64\n",
      " 3   is_correct      3198 non-null   bool   \n",
      " 4   predictions     3198 non-null   int64  \n",
      " 5   PVI             3198 non-null   float64\n",
      "dtypes: bool(1), float64(3), int64(2)\n",
      "memory usage: 153.0 KB\n"
     ]
    }
   ],
   "source": [
    "df_neg_pvi.info()"
   ]
  },
  {
   "cell_type": "code",
   "execution_count": 20,
   "metadata": {},
   "outputs": [],
   "source": [
    "df_hard_pvi = df_pvi[df_pvi['PVI'] < 0]\n",
    "df_ambi_pvi = df_pvi[(df_pvi['PVI'] > 0) & (df_pvi['is_correct'] == False)]\n",
    "df_easy_pvi = df_pvi[(df_pvi['PVI'] > 0) & (df_pvi['is_correct'] == True)]"
   ]
  },
  {
   "cell_type": "code",
   "execution_count": 38,
   "metadata": {},
   "outputs": [],
   "source": [
    "easy_pvi_df = df_tweet_eval[df_tweet_eval['idx'].isin(df_easy_pvi['idx'])]\n",
    "ambi_pvi_df = df_tweet_eval[df_tweet_eval['idx'].isin(df_ambi_pvi['idx'])]\n",
    "hard_pvi_df = df_tweet_eval[df_tweet_eval['idx'].isin(df_hard_pvi['idx'])]\n",
    "\n",
    "\n",
    "easy_pvi_df.to_csv(\"./data/difficulty_test_instances/easy_pvi_df.csv\", index=False)\n",
    "ambi_pvi_df.to_csv(\"./data/difficulty_test_instances/ambi_pvi_df.csv\", index=False)\n",
    "hard_pvi_df.to_csv(\"./data/difficulty_test_instances/hard_pvi_df.csv\", index=False)"
   ]
  },
  {
   "cell_type": "code",
   "execution_count": 37,
   "metadata": {},
   "outputs": [
    {
     "data": {
      "text/html": [
       "<div>\n",
       "<style scoped>\n",
       "    .dataframe tbody tr th:only-of-type {\n",
       "        vertical-align: middle;\n",
       "    }\n",
       "\n",
       "    .dataframe tbody tr th {\n",
       "        vertical-align: top;\n",
       "    }\n",
       "\n",
       "    .dataframe thead th {\n",
       "        text-align: right;\n",
       "    }\n",
       "</style>\n",
       "<table border=\"1\" class=\"dataframe\">\n",
       "  <thead>\n",
       "    <tr style=\"text-align: right;\">\n",
       "      <th></th>\n",
       "      <th>text</th>\n",
       "      <th>label</th>\n",
       "      <th>split</th>\n",
       "      <th>idx</th>\n",
       "    </tr>\n",
       "  </thead>\n",
       "  <tbody>\n",
       "    <tr>\n",
       "      <th>47615</th>\n",
       "      <td>@user @user what do these '1/2 naked pics' hav...</td>\n",
       "      <td>1</td>\n",
       "      <td>test</td>\n",
       "      <td>47615</td>\n",
       "    </tr>\n",
       "    <tr>\n",
       "      <th>47617</th>\n",
       "      <td>@user @user That's coming, but I think the vic...</td>\n",
       "      <td>1</td>\n",
       "      <td>test</td>\n",
       "      <td>47617</td>\n",
       "    </tr>\n",
       "    <tr>\n",
       "      <th>47620</th>\n",
       "      <td>Savchenko now Saakashvili took drug test live ...</td>\n",
       "      <td>1</td>\n",
       "      <td>test</td>\n",
       "      <td>47620</td>\n",
       "    </tr>\n",
       "    <tr>\n",
       "      <th>47621</th>\n",
       "      <td>How many more days until opening day? 😩</td>\n",
       "      <td>1</td>\n",
       "      <td>test</td>\n",
       "      <td>47621</td>\n",
       "    </tr>\n",
       "    <tr>\n",
       "      <th>47628</th>\n",
       "      <td>When Ryan privatizes SS, Medicare, Medicaid, &amp;...</td>\n",
       "      <td>0</td>\n",
       "      <td>test</td>\n",
       "      <td>47628</td>\n",
       "    </tr>\n",
       "  </tbody>\n",
       "</table>\n",
       "</div>"
      ],
      "text/plain": [
       "                                                    text  label split    idx\n",
       "47615  @user @user what do these '1/2 naked pics' hav...      1  test  47615\n",
       "47617  @user @user That's coming, but I think the vic...      1  test  47617\n",
       "47620  Savchenko now Saakashvili took drug test live ...      1  test  47620\n",
       "47621            How many more days until opening day? 😩      1  test  47621\n",
       "47628  When Ryan privatizes SS, Medicare, Medicaid, &...      0  test  47628"
      ]
     },
     "execution_count": 37,
     "metadata": {},
     "output_type": "execute_result"
    }
   ],
   "source": [
    "hard_pvi_df.head()"
   ]
  },
  {
   "cell_type": "code",
   "execution_count": 21,
   "metadata": {},
   "outputs": [
    {
     "data": {
      "text/plain": [
       "(8675, 411, 3198)"
      ]
     },
     "execution_count": 21,
     "metadata": {},
     "output_type": "execute_result"
    }
   ],
   "source": [
    "len(df_easy_pvi), len(df_ambi_pvi), len(df_hard_pvi)"
   ]
  },
  {
   "cell_type": "code",
   "execution_count": 24,
   "metadata": {},
   "outputs": [
    {
     "data": {
      "text/html": [
       "<div>\n",
       "<style scoped>\n",
       "    .dataframe tbody tr th:only-of-type {\n",
       "        vertical-align: middle;\n",
       "    }\n",
       "\n",
       "    .dataframe tbody tr th {\n",
       "        vertical-align: top;\n",
       "    }\n",
       "\n",
       "    .dataframe thead th {\n",
       "        text-align: right;\n",
       "    }\n",
       "</style>\n",
       "<table border=\"1\" class=\"dataframe\">\n",
       "  <thead>\n",
       "    <tr style=\"text-align: right;\">\n",
       "      <th></th>\n",
       "      <th>idx</th>\n",
       "      <th>null_entropies</th>\n",
       "      <th>entropies</th>\n",
       "      <th>is_correct</th>\n",
       "      <th>predictions</th>\n",
       "      <th>PVI</th>\n",
       "    </tr>\n",
       "  </thead>\n",
       "  <tbody>\n",
       "    <tr>\n",
       "      <th>0</th>\n",
       "      <td>47615</td>\n",
       "      <td>1.115952</td>\n",
       "      <td>2.712735</td>\n",
       "      <td>False</td>\n",
       "      <td>0</td>\n",
       "      <td>-1.596783</td>\n",
       "    </tr>\n",
       "    <tr>\n",
       "      <th>2</th>\n",
       "      <td>47617</td>\n",
       "      <td>1.115952</td>\n",
       "      <td>1.526653</td>\n",
       "      <td>False</td>\n",
       "      <td>0</td>\n",
       "      <td>-0.410701</td>\n",
       "    </tr>\n",
       "    <tr>\n",
       "      <th>5</th>\n",
       "      <td>47620</td>\n",
       "      <td>1.115952</td>\n",
       "      <td>2.593838</td>\n",
       "      <td>False</td>\n",
       "      <td>0</td>\n",
       "      <td>-1.477886</td>\n",
       "    </tr>\n",
       "    <tr>\n",
       "      <th>6</th>\n",
       "      <td>47621</td>\n",
       "      <td>1.115952</td>\n",
       "      <td>3.702407</td>\n",
       "      <td>False</td>\n",
       "      <td>2</td>\n",
       "      <td>-2.586455</td>\n",
       "    </tr>\n",
       "    <tr>\n",
       "      <th>13</th>\n",
       "      <td>47628</td>\n",
       "      <td>2.792252</td>\n",
       "      <td>8.420371</td>\n",
       "      <td>False</td>\n",
       "      <td>1</td>\n",
       "      <td>-5.628119</td>\n",
       "    </tr>\n",
       "  </tbody>\n",
       "</table>\n",
       "</div>"
      ],
      "text/plain": [
       "      idx  null_entropies  entropies  is_correct  predictions       PVI\n",
       "0   47615        1.115952   2.712735       False            0 -1.596783\n",
       "2   47617        1.115952   1.526653       False            0 -0.410701\n",
       "5   47620        1.115952   2.593838       False            0 -1.477886\n",
       "6   47621        1.115952   3.702407       False            2 -2.586455\n",
       "13  47628        2.792252   8.420371       False            1 -5.628119"
      ]
     },
     "execution_count": 24,
     "metadata": {},
     "output_type": "execute_result"
    }
   ],
   "source": [
    "df_hard_pvi.head()"
   ]
  },
  {
   "cell_type": "code",
   "execution_count": 25,
   "metadata": {},
   "outputs": [],
   "source": [
    "df_tweet_eval = pd.read_csv(\"./data/tweet_eval_combined.csv\")"
   ]
  },
  {
   "cell_type": "code",
   "execution_count": 31,
   "metadata": {},
   "outputs": [
    {
     "data": {
      "text/plain": [
       "45"
      ]
     },
     "execution_count": 31,
     "metadata": {},
     "output_type": "execute_result"
    }
   ],
   "source": [
    "df_tweet_eval[['text', 'label', 'idx']]"
   ]
  },
  {
   "cell_type": "code",
   "execution_count": 33,
   "metadata": {},
   "outputs": [],
   "source": [
    "filtered_tweet_eval = df_tweet_eval[df_tweet_eval['idx'].isin(df_easy_pvi['idx'])]\n"
   ]
  },
  {
   "cell_type": "code",
   "execution_count": 34,
   "metadata": {},
   "outputs": [
    {
     "data": {
      "text/plain": [
       "8675"
      ]
     },
     "execution_count": 34,
     "metadata": {},
     "output_type": "execute_result"
    }
   ],
   "source": [
    "len(filtered_tweet_eval)"
   ]
  },
  {
   "cell_type": "code",
   "execution_count": 35,
   "metadata": {},
   "outputs": [
    {
     "data": {
      "text/html": [
       "<div>\n",
       "<style scoped>\n",
       "    .dataframe tbody tr th:only-of-type {\n",
       "        vertical-align: middle;\n",
       "    }\n",
       "\n",
       "    .dataframe tbody tr th {\n",
       "        vertical-align: top;\n",
       "    }\n",
       "\n",
       "    .dataframe thead th {\n",
       "        text-align: right;\n",
       "    }\n",
       "</style>\n",
       "<table border=\"1\" class=\"dataframe\">\n",
       "  <thead>\n",
       "    <tr style=\"text-align: right;\">\n",
       "      <th></th>\n",
       "      <th>text</th>\n",
       "      <th>label</th>\n",
       "      <th>split</th>\n",
       "      <th>idx</th>\n",
       "    </tr>\n",
       "  </thead>\n",
       "  <tbody>\n",
       "    <tr>\n",
       "      <th>47616</th>\n",
       "      <td>OH: “I had a blue penis while I was this” [pla...</td>\n",
       "      <td>1</td>\n",
       "      <td>test</td>\n",
       "      <td>47616</td>\n",
       "    </tr>\n",
       "    <tr>\n",
       "      <th>47618</th>\n",
       "      <td>I think I may be finally in with the in crowd ...</td>\n",
       "      <td>2</td>\n",
       "      <td>test</td>\n",
       "      <td>47618</td>\n",
       "    </tr>\n",
       "    <tr>\n",
       "      <th>47619</th>\n",
       "      <td>@user Wow,first Hugo Chavez and now Fidel Cast...</td>\n",
       "      <td>0</td>\n",
       "      <td>test</td>\n",
       "      <td>47619</td>\n",
       "    </tr>\n",
       "    <tr>\n",
       "      <th>47622</th>\n",
       "      <td>Twitter's #ThankYouObama Shows Heartfelt Grati...</td>\n",
       "      <td>2</td>\n",
       "      <td>test</td>\n",
       "      <td>47622</td>\n",
       "    </tr>\n",
       "    <tr>\n",
       "      <th>47623</th>\n",
       "      <td>All CSG and Fracking all around Australia is t...</td>\n",
       "      <td>1</td>\n",
       "      <td>test</td>\n",
       "      <td>47623</td>\n",
       "    </tr>\n",
       "  </tbody>\n",
       "</table>\n",
       "</div>"
      ],
      "text/plain": [
       "                                                    text  label split    idx\n",
       "47616  OH: “I had a blue penis while I was this” [pla...      1  test  47616\n",
       "47618  I think I may be finally in with the in crowd ...      2  test  47618\n",
       "47619  @user Wow,first Hugo Chavez and now Fidel Cast...      0  test  47619\n",
       "47622  Twitter's #ThankYouObama Shows Heartfelt Grati...      2  test  47622\n",
       "47623  All CSG and Fracking all around Australia is t...      1  test  47623"
      ]
     },
     "execution_count": 35,
     "metadata": {},
     "output_type": "execute_result"
    }
   ],
   "source": [
    "filtered_tweet_eval.head()"
   ]
  },
  {
   "cell_type": "code",
   "execution_count": null,
   "metadata": {},
   "outputs": [],
   "source": [
    "len(easy_pvi)"
   ]
  },
  {
   "cell_type": "code",
   "execution_count": 9,
   "metadata": {},
   "outputs": [
    {
     "name": "stdout",
     "output_type": "stream",
     "text": [
      "<class 'pandas.core.frame.DataFrame'>\n",
      "Index: 3198 entries, 0 to 12280\n",
      "Data columns (total 6 columns):\n",
      " #   Column          Non-Null Count  Dtype  \n",
      "---  ------          --------------  -----  \n",
      " 0   idx             3198 non-null   int64  \n",
      " 1   null_entropies  3198 non-null   float64\n",
      " 2   entropies       3198 non-null   float64\n",
      " 3   is_correct      3198 non-null   bool   \n",
      " 4   predictions     3198 non-null   int64  \n",
      " 5   PVI             3198 non-null   float64\n",
      "dtypes: bool(1), float64(3), int64(2)\n",
      "memory usage: 153.0 KB\n"
     ]
    }
   ],
   "source": [
    "df_neg_pvi.info()"
   ]
  },
  {
   "cell_type": "code",
   "execution_count": 17,
   "metadata": {},
   "outputs": [
    {
     "data": {
      "text/html": [
       "<div>\n",
       "<style scoped>\n",
       "    .dataframe tbody tr th:only-of-type {\n",
       "        vertical-align: middle;\n",
       "    }\n",
       "\n",
       "    .dataframe tbody tr th {\n",
       "        vertical-align: top;\n",
       "    }\n",
       "\n",
       "    .dataframe thead th {\n",
       "        text-align: right;\n",
       "    }\n",
       "</style>\n",
       "<table border=\"1\" class=\"dataframe\">\n",
       "  <thead>\n",
       "    <tr style=\"text-align: right;\">\n",
       "      <th></th>\n",
       "      <th>idx</th>\n",
       "      <th>null_entropies</th>\n",
       "      <th>entropies</th>\n",
       "      <th>is_correct</th>\n",
       "      <th>predictions</th>\n",
       "      <th>PVI</th>\n",
       "    </tr>\n",
       "  </thead>\n",
       "  <tbody>\n",
       "    <tr>\n",
       "      <th>0</th>\n",
       "      <td>2000</td>\n",
       "      <td>1.115952</td>\n",
       "      <td>0.223820</td>\n",
       "      <td>True</td>\n",
       "      <td>1</td>\n",
       "      <td>0.892132</td>\n",
       "    </tr>\n",
       "    <tr>\n",
       "      <th>1</th>\n",
       "      <td>2001</td>\n",
       "      <td>1.342807</td>\n",
       "      <td>0.098067</td>\n",
       "      <td>True</td>\n",
       "      <td>2</td>\n",
       "      <td>1.244740</td>\n",
       "    </tr>\n",
       "    <tr>\n",
       "      <th>2</th>\n",
       "      <td>2002</td>\n",
       "      <td>2.792252</td>\n",
       "      <td>7.629836</td>\n",
       "      <td>False</td>\n",
       "      <td>1</td>\n",
       "      <td>-4.837585</td>\n",
       "    </tr>\n",
       "    <tr>\n",
       "      <th>3</th>\n",
       "      <td>2003</td>\n",
       "      <td>1.115952</td>\n",
       "      <td>0.012854</td>\n",
       "      <td>True</td>\n",
       "      <td>1</td>\n",
       "      <td>1.103098</td>\n",
       "    </tr>\n",
       "    <tr>\n",
       "      <th>4</th>\n",
       "      <td>2004</td>\n",
       "      <td>1.115952</td>\n",
       "      <td>0.003873</td>\n",
       "      <td>True</td>\n",
       "      <td>1</td>\n",
       "      <td>1.112079</td>\n",
       "    </tr>\n",
       "  </tbody>\n",
       "</table>\n",
       "</div>"
      ],
      "text/plain": [
       "    idx  null_entropies  entropies  is_correct  predictions       PVI\n",
       "0  2000        1.115952   0.223820        True            1  0.892132\n",
       "1  2001        1.342807   0.098067        True            2  1.244740\n",
       "2  2002        2.792252   7.629836       False            1 -4.837585\n",
       "3  2003        1.115952   0.012854        True            1  1.103098\n",
       "4  2004        1.115952   0.003873        True            1  1.112079"
      ]
     },
     "execution_count": 17,
     "metadata": {},
     "output_type": "execute_result"
    }
   ],
   "source": [
    "df_pvi.head()"
   ]
  },
  {
   "cell_type": "code",
   "execution_count": 19,
   "metadata": {},
   "outputs": [],
   "source": [
    "# accuracy = evaluate.load(\"accuracy\", average=None)\n",
    "# f1 = evaluate.load(\"f1\", \"multiclass\")\n",
    "# precision = evaluate.load(\"precision\", \"multiclass\")\n",
    "# recall = evaluate.load(\"recall\", \"multiclass\")\n"
   ]
  },
  {
   "cell_type": "code",
   "execution_count": 29,
   "metadata": {},
   "outputs": [],
   "source": [
    "f1 = evaluate.load(\"f1\", average=\"macro\"),\n",
    "prec = evaluate.load(\"precision\", average=\"macro\"),\n",
    "rec = evaluate.load(\"recall\", average=\"macro\")\n",
    "acc = evaluate.load(\"accuracy\")\n"
   ]
  },
  {
   "cell_type": "code",
   "execution_count": 4,
   "metadata": {},
   "outputs": [],
   "source": [
    "class ConfiguredMetric:\n",
    "    def __init__(self, metric, *metric_args, **metric_kwargs):\n",
    "        self.metric = metric\n",
    "        self.metric_args = metric_args\n",
    "        self.metric_kwargs = metric_kwargs\n",
    "    \n",
    "    def add(self, *args, **kwargs):\n",
    "        return self.metric.add(*args, **kwargs)\n",
    "    \n",
    "    def add_batch(self, *args, **kwargs):\n",
    "        return self.metric.add_batch(*args, **kwargs)\n",
    "\n",
    "    def compute(self, *args, **kwargs):\n",
    "        return self.metric.compute(*args, *self.metric_args, **kwargs, **self.metric_kwargs)\n",
    "\n",
    "    @property\n",
    "    def name(self):\n",
    "        return self.metric.name\n",
    "\n",
    "    def _feature_names(self):\n",
    "        return self.metric._feature_names()"
   ]
  },
  {
   "cell_type": "code",
   "execution_count": null,
   "metadata": {},
   "outputs": [],
   "source": [
    "import pandas as pd\n",
    "\n",
    "def getData(split, is_null=False):\n",
    "    \"\"\"\n",
    "    split: train, val, test\n",
    "    map: 0 negative\n",
    "         1 neutral\n",
    "         2 positive\n",
    "    \"\"\"\n",
    "    with open(f\"/home/pritam.k/research/hf_audit/data/sentiment/{split}_text.txt\", \"r\") as tfile:\n",
    "        sent = []\n",
    "        for sen in tfile:\n",
    "            sent.append(sen.strip())\n",
    "    with open(f\"/home/pritam.k/research/hf_audit/data/sentiment/{split}_labels.txt\", \"r\") as tfile:\n",
    "        labels = []\n",
    "        for lab in tfile:\n",
    "            labels.append(lab.strip())\n",
    "\n",
    "    if is_null:\n",
    "        df = pd.DataFrame({'text': [''] * len(sent), 'label': labels})\n",
    "    else:\n",
    "        df = pd.DataFrame({'text': sent, 'label': labels})\n",
    "\n",
    "    df['label'] = df['label'].astype('int')\n",
    "\n",
    "    return df\n"
   ]
  },
  {
   "cell_type": "code",
   "execution_count": 75,
   "metadata": {},
   "outputs": [],
   "source": [
    "with open(f\"/home/pritam.k/research/hf_audit/data/sentiment/test_text.txt\", \"r\") as tfile:\n",
    "    sent=[]\n",
    "    for sen in tfile:\n",
    "        sent.append(sen.strip())"
   ]
  },
  {
   "cell_type": "code",
   "execution_count": 131,
   "metadata": {},
   "outputs": [],
   "source": [
    "# df_train = getData('train')\n",
    "# df_val = getData('val')\n",
    "# df_test = getData('test', True)"
   ]
  },
  {
   "cell_type": "code",
   "execution_count": 169,
   "metadata": {},
   "outputs": [],
   "source": [
    "df_train = getData('train')\n",
    "df_val = getData('val')\n",
    "df_test = getData('test')\n",
    "\n",
    "com_df = pd.concat([df_train, df_val, df_test])"
   ]
  },
  {
   "cell_type": "code",
   "execution_count": 170,
   "metadata": {},
   "outputs": [
    {
     "name": "stdout",
     "output_type": "stream",
     "text": [
      "<class 'pandas.core.frame.DataFrame'>\n",
      "Index: 59899 entries, 0 to 12283\n",
      "Data columns (total 2 columns):\n",
      " #   Column  Non-Null Count  Dtype \n",
      "---  ------  --------------  ----- \n",
      " 0   text    59899 non-null  object\n",
      " 1   label   59899 non-null  int64 \n",
      "dtypes: int64(1), object(1)\n",
      "memory usage: 1.4+ MB\n"
     ]
    }
   ],
   "source": [
    "com_df.info()"
   ]
  },
  {
   "cell_type": "code",
   "execution_count": 171,
   "metadata": {},
   "outputs": [
    {
     "name": "stdout",
     "output_type": "stream",
     "text": [
      "<class 'pandas.core.frame.DataFrame'>\n",
      "RangeIndex: 12284 entries, 0 to 12283\n",
      "Data columns (total 2 columns):\n",
      " #   Column  Non-Null Count  Dtype \n",
      "---  ------  --------------  ----- \n",
      " 0   text    12284 non-null  object\n",
      " 1   label   12284 non-null  int64 \n",
      "dtypes: int64(1), object(1)\n",
      "memory usage: 192.1+ KB\n"
     ]
    }
   ],
   "source": [
    "df_test.info()"
   ]
  },
  {
   "cell_type": "code",
   "execution_count": 114,
   "metadata": {},
   "outputs": [],
   "source": [
    "is_null = True\n",
    "df_test['text']=\" \" if is_null else sent"
   ]
  },
  {
   "cell_type": "code",
   "execution_count": 167,
   "metadata": {},
   "outputs": [
    {
     "name": "stdout",
     "output_type": "stream",
     "text": [
      "<class 'pandas.core.frame.DataFrame'>\n",
      "RangeIndex: 12284 entries, 0 to 12283\n",
      "Data columns (total 2 columns):\n",
      " #   Column  Non-Null Count  Dtype \n",
      "---  ------  --------------  ----- \n",
      " 0   text    12284 non-null  object\n",
      " 1   label   12284 non-null  int64 \n",
      "dtypes: int64(1), object(1)\n",
      "memory usage: 192.1+ KB\n"
     ]
    }
   ],
   "source": [
    "df_test.info()"
   ]
  },
  {
   "cell_type": "code",
   "execution_count": 132,
   "metadata": {},
   "outputs": [
    {
     "data": {
      "text/html": [
       "<div>\n",
       "<style scoped>\n",
       "    .dataframe tbody tr th:only-of-type {\n",
       "        vertical-align: middle;\n",
       "    }\n",
       "\n",
       "    .dataframe tbody tr th {\n",
       "        vertical-align: top;\n",
       "    }\n",
       "\n",
       "    .dataframe thead th {\n",
       "        text-align: right;\n",
       "    }\n",
       "</style>\n",
       "<table border=\"1\" class=\"dataframe\">\n",
       "  <thead>\n",
       "    <tr style=\"text-align: right;\">\n",
       "      <th></th>\n",
       "      <th>text</th>\n",
       "      <th>label</th>\n",
       "    </tr>\n",
       "  </thead>\n",
       "  <tbody>\n",
       "    <tr>\n",
       "      <th>0</th>\n",
       "      <td></td>\n",
       "      <td>1</td>\n",
       "    </tr>\n",
       "    <tr>\n",
       "      <th>1</th>\n",
       "      <td></td>\n",
       "      <td>1</td>\n",
       "    </tr>\n",
       "    <tr>\n",
       "      <th>2</th>\n",
       "      <td></td>\n",
       "      <td>1</td>\n",
       "    </tr>\n",
       "    <tr>\n",
       "      <th>3</th>\n",
       "      <td></td>\n",
       "      <td>2</td>\n",
       "    </tr>\n",
       "    <tr>\n",
       "      <th>4</th>\n",
       "      <td></td>\n",
       "      <td>0</td>\n",
       "    </tr>\n",
       "  </tbody>\n",
       "</table>\n",
       "</div>"
      ],
      "text/plain": [
       "  text  label\n",
       "0           1\n",
       "1           1\n",
       "2           1\n",
       "3           2\n",
       "4           0"
      ]
     },
     "execution_count": 132,
     "metadata": {},
     "output_type": "execute_result"
    }
   ],
   "source": [
    "df_test.head()"
   ]
  },
  {
   "cell_type": "code",
   "execution_count": 81,
   "metadata": {},
   "outputs": [],
   "source": [
    "df_test['text'] = sent"
   ]
  },
  {
   "cell_type": "code",
   "execution_count": 73,
   "metadata": {},
   "outputs": [
    {
     "data": {
      "text/html": [
       "<div>\n",
       "<style scoped>\n",
       "    .dataframe tbody tr th:only-of-type {\n",
       "        vertical-align: middle;\n",
       "    }\n",
       "\n",
       "    .dataframe tbody tr th {\n",
       "        vertical-align: top;\n",
       "    }\n",
       "\n",
       "    .dataframe thead th {\n",
       "        text-align: right;\n",
       "    }\n",
       "</style>\n",
       "<table border=\"1\" class=\"dataframe\">\n",
       "  <thead>\n",
       "    <tr style=\"text-align: right;\">\n",
       "      <th></th>\n",
       "      <th>text</th>\n",
       "      <th>label</th>\n",
       "    </tr>\n",
       "  </thead>\n",
       "  <tbody>\n",
       "    <tr>\n",
       "      <th>0</th>\n",
       "      <td></td>\n",
       "      <td>2</td>\n",
       "    </tr>\n",
       "    <tr>\n",
       "      <th>1</th>\n",
       "      <td></td>\n",
       "      <td>1</td>\n",
       "    </tr>\n",
       "    <tr>\n",
       "      <th>2</th>\n",
       "      <td></td>\n",
       "      <td>1</td>\n",
       "    </tr>\n",
       "    <tr>\n",
       "      <th>3</th>\n",
       "      <td></td>\n",
       "      <td>1</td>\n",
       "    </tr>\n",
       "    <tr>\n",
       "      <th>4</th>\n",
       "      <td></td>\n",
       "      <td>2</td>\n",
       "    </tr>\n",
       "  </tbody>\n",
       "</table>\n",
       "</div>"
      ],
      "text/plain": [
       "  text  label\n",
       "0           2\n",
       "1           1\n",
       "2           1\n",
       "3           1\n",
       "4           2"
      ]
     },
     "execution_count": 73,
     "metadata": {},
     "output_type": "execute_result"
    }
   ],
   "source": [
    "df_train.head()"
   ]
  },
  {
   "cell_type": "code",
   "execution_count": 70,
   "metadata": {},
   "outputs": [
    {
     "data": {
      "text/html": [
       "<div>\n",
       "<style scoped>\n",
       "    .dataframe tbody tr th:only-of-type {\n",
       "        vertical-align: middle;\n",
       "    }\n",
       "\n",
       "    .dataframe tbody tr th {\n",
       "        vertical-align: top;\n",
       "    }\n",
       "\n",
       "    .dataframe thead th {\n",
       "        text-align: right;\n",
       "    }\n",
       "</style>\n",
       "<table border=\"1\" class=\"dataframe\">\n",
       "  <thead>\n",
       "    <tr style=\"text-align: right;\">\n",
       "      <th></th>\n",
       "      <th>text</th>\n",
       "      <th>label</th>\n",
       "    </tr>\n",
       "  </thead>\n",
       "  <tbody>\n",
       "    <tr>\n",
       "      <th>0</th>\n",
       "      <td>NaN</td>\n",
       "      <td>1</td>\n",
       "    </tr>\n",
       "    <tr>\n",
       "      <th>1</th>\n",
       "      <td>NaN</td>\n",
       "      <td>1</td>\n",
       "    </tr>\n",
       "    <tr>\n",
       "      <th>2</th>\n",
       "      <td>NaN</td>\n",
       "      <td>1</td>\n",
       "    </tr>\n",
       "    <tr>\n",
       "      <th>3</th>\n",
       "      <td>NaN</td>\n",
       "      <td>2</td>\n",
       "    </tr>\n",
       "    <tr>\n",
       "      <th>4</th>\n",
       "      <td>NaN</td>\n",
       "      <td>0</td>\n",
       "    </tr>\n",
       "  </tbody>\n",
       "</table>\n",
       "</div>"
      ],
      "text/plain": [
       "  text  label\n",
       "0  NaN      1\n",
       "1  NaN      1\n",
       "2  NaN      1\n",
       "3  NaN      2\n",
       "4  NaN      0"
      ]
     },
     "execution_count": 70,
     "metadata": {},
     "output_type": "execute_result"
    }
   ],
   "source": [
    "df_test.head()"
   ]
  },
  {
   "cell_type": "code",
   "execution_count": 46,
   "metadata": {},
   "outputs": [
    {
     "name": "stdout",
     "output_type": "stream",
     "text": [
      "45615 2000 12284\n"
     ]
    }
   ],
   "source": [
    "print(len(df_train), len(df_val), len(df_test))"
   ]
  },
  {
   "cell_type": "code",
   "execution_count": 47,
   "metadata": {},
   "outputs": [],
   "source": [
    "df_concat = pd.concat([df_train, df_val, df_test])"
   ]
  },
  {
   "cell_type": "code",
   "execution_count": 49,
   "metadata": {},
   "outputs": [
    {
     "name": "stdout",
     "output_type": "stream",
     "text": [
      "<class 'pandas.core.frame.DataFrame'>\n",
      "Index: 59899 entries, 0 to 12283\n",
      "Data columns (total 3 columns):\n",
      " #   Column  Non-Null Count  Dtype \n",
      "---  ------  --------------  ----- \n",
      " 0   idx     0 non-null      object\n",
      " 1   text    59899 non-null  object\n",
      " 2   label   59899 non-null  int64 \n",
      "dtypes: int64(1), object(2)\n",
      "memory usage: 1.8+ MB\n"
     ]
    }
   ],
   "source": [
    "df_concat.info()"
   ]
  },
  {
   "cell_type": "code",
   "execution_count": 57,
   "metadata": {},
   "outputs": [],
   "source": [
    "import random\n",
    "\n",
    "df_concat = pd.concat([df_train, df_val, df_test])\n",
    "df_concat['idx'] = [i for i in range(len(df_concat))]"
   ]
  },
  {
   "cell_type": "code",
   "execution_count": 58,
   "metadata": {},
   "outputs": [
    {
     "data": {
      "text/html": [
       "<div>\n",
       "<style scoped>\n",
       "    .dataframe tbody tr th:only-of-type {\n",
       "        vertical-align: middle;\n",
       "    }\n",
       "\n",
       "    .dataframe tbody tr th {\n",
       "        vertical-align: top;\n",
       "    }\n",
       "\n",
       "    .dataframe thead th {\n",
       "        text-align: right;\n",
       "    }\n",
       "</style>\n",
       "<table border=\"1\" class=\"dataframe\">\n",
       "  <thead>\n",
       "    <tr style=\"text-align: right;\">\n",
       "      <th></th>\n",
       "      <th>idx</th>\n",
       "      <th>text</th>\n",
       "      <th>label</th>\n",
       "    </tr>\n",
       "  </thead>\n",
       "  <tbody>\n",
       "    <tr>\n",
       "      <th>0</th>\n",
       "      <td>0</td>\n",
       "      <td>\"QT @user In the original draft of the 7th boo...</td>\n",
       "      <td>2</td>\n",
       "    </tr>\n",
       "    <tr>\n",
       "      <th>1</th>\n",
       "      <td>1</td>\n",
       "      <td>\"Ben Smith / Smith (concussion) remains out of...</td>\n",
       "      <td>1</td>\n",
       "    </tr>\n",
       "    <tr>\n",
       "      <th>2</th>\n",
       "      <td>2</td>\n",
       "      <td>Sorry bout the stream last night I crashed out...</td>\n",
       "      <td>1</td>\n",
       "    </tr>\n",
       "    <tr>\n",
       "      <th>3</th>\n",
       "      <td>3</td>\n",
       "      <td>Chase Headley's RBI double in the 8th inning o...</td>\n",
       "      <td>1</td>\n",
       "    </tr>\n",
       "    <tr>\n",
       "      <th>4</th>\n",
       "      <td>4</td>\n",
       "      <td>@user Alciato: Bee will invest 150 million in ...</td>\n",
       "      <td>2</td>\n",
       "    </tr>\n",
       "  </tbody>\n",
       "</table>\n",
       "</div>"
      ],
      "text/plain": [
       "   idx                                               text  label\n",
       "0    0  \"QT @user In the original draft of the 7th boo...      2\n",
       "1    1  \"Ben Smith / Smith (concussion) remains out of...      1\n",
       "2    2  Sorry bout the stream last night I crashed out...      1\n",
       "3    3  Chase Headley's RBI double in the 8th inning o...      1\n",
       "4    4  @user Alciato: Bee will invest 150 million in ...      2"
      ]
     },
     "execution_count": 58,
     "metadata": {},
     "output_type": "execute_result"
    }
   ],
   "source": [
    "df_concat.head()"
   ]
  },
  {
   "cell_type": "code",
   "execution_count": 60,
   "metadata": {},
   "outputs": [],
   "source": [
    "train = df_concat[:len(df_train)]\n",
    "val = df_concat[len(df_train):len(df_train)+len(df_val)]\n",
    "test = df_concat[len(df_train)+len(df_val):]"
   ]
  },
  {
   "cell_type": "code",
   "execution_count": 66,
   "metadata": {},
   "outputs": [
    {
     "data": {
      "text/html": [
       "<div>\n",
       "<style scoped>\n",
       "    .dataframe tbody tr th:only-of-type {\n",
       "        vertical-align: middle;\n",
       "    }\n",
       "\n",
       "    .dataframe tbody tr th {\n",
       "        vertical-align: top;\n",
       "    }\n",
       "\n",
       "    .dataframe thead th {\n",
       "        text-align: right;\n",
       "    }\n",
       "</style>\n",
       "<table border=\"1\" class=\"dataframe\">\n",
       "  <thead>\n",
       "    <tr style=\"text-align: right;\">\n",
       "      <th></th>\n",
       "      <th>idx</th>\n",
       "      <th>text</th>\n",
       "      <th>label</th>\n",
       "    </tr>\n",
       "  </thead>\n",
       "  <tbody>\n",
       "    <tr>\n",
       "      <th>0</th>\n",
       "      <td>47615</td>\n",
       "      <td>@user @user what do these '1/2 naked pics' hav...</td>\n",
       "      <td>1</td>\n",
       "    </tr>\n",
       "    <tr>\n",
       "      <th>1</th>\n",
       "      <td>47616</td>\n",
       "      <td>OH: “I had a blue penis while I was this” [pla...</td>\n",
       "      <td>1</td>\n",
       "    </tr>\n",
       "    <tr>\n",
       "      <th>2</th>\n",
       "      <td>47617</td>\n",
       "      <td>@user @user That's coming, but I think the vic...</td>\n",
       "      <td>1</td>\n",
       "    </tr>\n",
       "    <tr>\n",
       "      <th>3</th>\n",
       "      <td>47618</td>\n",
       "      <td>I think I may be finally in with the in crowd ...</td>\n",
       "      <td>2</td>\n",
       "    </tr>\n",
       "    <tr>\n",
       "      <th>4</th>\n",
       "      <td>47619</td>\n",
       "      <td>@user Wow,first Hugo Chavez and now Fidel Cast...</td>\n",
       "      <td>0</td>\n",
       "    </tr>\n",
       "  </tbody>\n",
       "</table>\n",
       "</div>"
      ],
      "text/plain": [
       "     idx                                               text  label\n",
       "0  47615  @user @user what do these '1/2 naked pics' hav...      1\n",
       "1  47616  OH: “I had a blue penis while I was this” [pla...      1\n",
       "2  47617  @user @user That's coming, but I think the vic...      1\n",
       "3  47618  I think I may be finally in with the in crowd ...      2\n",
       "4  47619  @user Wow,first Hugo Chavez and now Fidel Cast...      0"
      ]
     },
     "execution_count": 66,
     "metadata": {},
     "output_type": "execute_result"
    }
   ],
   "source": [
    "test.head()"
   ]
  },
  {
   "cell_type": "code",
   "execution_count": 67,
   "metadata": {},
   "outputs": [
    {
     "data": {
      "text/html": [
       "<div>\n",
       "<style scoped>\n",
       "    .dataframe tbody tr th:only-of-type {\n",
       "        vertical-align: middle;\n",
       "    }\n",
       "\n",
       "    .dataframe tbody tr th {\n",
       "        vertical-align: top;\n",
       "    }\n",
       "\n",
       "    .dataframe thead th {\n",
       "        text-align: right;\n",
       "    }\n",
       "</style>\n",
       "<table border=\"1\" class=\"dataframe\">\n",
       "  <thead>\n",
       "    <tr style=\"text-align: right;\">\n",
       "      <th></th>\n",
       "      <th>idx</th>\n",
       "      <th>text</th>\n",
       "      <th>label</th>\n",
       "    </tr>\n",
       "  </thead>\n",
       "  <tbody>\n",
       "    <tr>\n",
       "      <th>0</th>\n",
       "      <td>NaN</td>\n",
       "      <td>@user @user what do these '1/2 naked pics' hav...</td>\n",
       "      <td>1</td>\n",
       "    </tr>\n",
       "    <tr>\n",
       "      <th>1</th>\n",
       "      <td>NaN</td>\n",
       "      <td>OH: “I had a blue penis while I was this” [pla...</td>\n",
       "      <td>1</td>\n",
       "    </tr>\n",
       "    <tr>\n",
       "      <th>2</th>\n",
       "      <td>NaN</td>\n",
       "      <td>@user @user That's coming, but I think the vic...</td>\n",
       "      <td>1</td>\n",
       "    </tr>\n",
       "    <tr>\n",
       "      <th>3</th>\n",
       "      <td>NaN</td>\n",
       "      <td>I think I may be finally in with the in crowd ...</td>\n",
       "      <td>2</td>\n",
       "    </tr>\n",
       "    <tr>\n",
       "      <th>4</th>\n",
       "      <td>NaN</td>\n",
       "      <td>@user Wow,first Hugo Chavez and now Fidel Cast...</td>\n",
       "      <td>0</td>\n",
       "    </tr>\n",
       "  </tbody>\n",
       "</table>\n",
       "</div>"
      ],
      "text/plain": [
       "   idx                                               text  label\n",
       "0  NaN  @user @user what do these '1/2 naked pics' hav...      1\n",
       "1  NaN  OH: “I had a blue penis while I was this” [pla...      1\n",
       "2  NaN  @user @user That's coming, but I think the vic...      1\n",
       "3  NaN  I think I may be finally in with the in crowd ...      2\n",
       "4  NaN  @user Wow,first Hugo Chavez and now Fidel Cast...      0"
      ]
     },
     "execution_count": 67,
     "metadata": {},
     "output_type": "execute_result"
    }
   ],
   "source": [
    "df_test.head()"
   ]
  },
  {
   "cell_type": "code",
   "execution_count": 61,
   "metadata": {},
   "outputs": [
    {
     "data": {
      "text/html": [
       "<div>\n",
       "<style scoped>\n",
       "    .dataframe tbody tr th:only-of-type {\n",
       "        vertical-align: middle;\n",
       "    }\n",
       "\n",
       "    .dataframe tbody tr th {\n",
       "        vertical-align: top;\n",
       "    }\n",
       "\n",
       "    .dataframe thead th {\n",
       "        text-align: right;\n",
       "    }\n",
       "</style>\n",
       "<table border=\"1\" class=\"dataframe\">\n",
       "  <thead>\n",
       "    <tr style=\"text-align: right;\">\n",
       "      <th></th>\n",
       "      <th>idx</th>\n",
       "      <th>text</th>\n",
       "      <th>label</th>\n",
       "    </tr>\n",
       "  </thead>\n",
       "  <tbody>\n",
       "    <tr>\n",
       "      <th>0</th>\n",
       "      <td>45615</td>\n",
       "      <td>Dark Souls 3 April Launch Date Confirmed With ...</td>\n",
       "      <td>1</td>\n",
       "    </tr>\n",
       "    <tr>\n",
       "      <th>1</th>\n",
       "      <td>45616</td>\n",
       "      <td>\"National hot dog day, national tequila day, t...</td>\n",
       "      <td>2</td>\n",
       "    </tr>\n",
       "    <tr>\n",
       "      <th>2</th>\n",
       "      <td>45617</td>\n",
       "      <td>When girls become bandwagon fans of the Packer...</td>\n",
       "      <td>0</td>\n",
       "    </tr>\n",
       "    <tr>\n",
       "      <th>3</th>\n",
       "      <td>45618</td>\n",
       "      <td>@user I may or may not have searched it up on ...</td>\n",
       "      <td>1</td>\n",
       "    </tr>\n",
       "    <tr>\n",
       "      <th>4</th>\n",
       "      <td>45619</td>\n",
       "      <td>Here's your starting TUESDAY MORNING Line up a...</td>\n",
       "      <td>1</td>\n",
       "    </tr>\n",
       "  </tbody>\n",
       "</table>\n",
       "</div>"
      ],
      "text/plain": [
       "     idx                                               text  label\n",
       "0  45615  Dark Souls 3 April Launch Date Confirmed With ...      1\n",
       "1  45616  \"National hot dog day, national tequila day, t...      2\n",
       "2  45617  When girls become bandwagon fans of the Packer...      0\n",
       "3  45618  @user I may or may not have searched it up on ...      1\n",
       "4  45619  Here's your starting TUESDAY MORNING Line up a...      1"
      ]
     },
     "execution_count": 61,
     "metadata": {},
     "output_type": "execute_result"
    }
   ],
   "source": [
    "test.head()"
   ]
  },
  {
   "cell_type": "code",
   "execution_count": 28,
   "metadata": {},
   "outputs": [],
   "source": [
    "df_val = getData('val')\n",
    "df_test = getData('test')"
   ]
  },
  {
   "cell_type": "code",
   "execution_count": 29,
   "metadata": {},
   "outputs": [
    {
     "data": {
      "text/html": [
       "<div>\n",
       "<style scoped>\n",
       "    .dataframe tbody tr th:only-of-type {\n",
       "        vertical-align: middle;\n",
       "    }\n",
       "\n",
       "    .dataframe tbody tr th {\n",
       "        vertical-align: top;\n",
       "    }\n",
       "\n",
       "    .dataframe thead th {\n",
       "        text-align: right;\n",
       "    }\n",
       "</style>\n",
       "<table border=\"1\" class=\"dataframe\">\n",
       "  <thead>\n",
       "    <tr style=\"text-align: right;\">\n",
       "      <th></th>\n",
       "      <th>idx</th>\n",
       "      <th>text</th>\n",
       "      <th>label</th>\n",
       "    </tr>\n",
       "  </thead>\n",
       "  <tbody>\n",
       "    <tr>\n",
       "      <th>1995</th>\n",
       "      <td>201995</td>\n",
       "      <td>\"LONDON (AP) \"\" Prince George celebrates his s...</td>\n",
       "      <td>1</td>\n",
       "    </tr>\n",
       "    <tr>\n",
       "      <th>1996</th>\n",
       "      <td>201996</td>\n",
       "      <td>Harper's Worst Offense against Refugees may be...</td>\n",
       "      <td>1</td>\n",
       "    </tr>\n",
       "    <tr>\n",
       "      <th>1997</th>\n",
       "      <td>201997</td>\n",
       "      <td>Hold on... Sam Smith may do the theme to Spect...</td>\n",
       "      <td>2</td>\n",
       "    </tr>\n",
       "    <tr>\n",
       "      <th>1998</th>\n",
       "      <td>201998</td>\n",
       "      <td>Gonna watch Final Destination 5 tonight. I alw...</td>\n",
       "      <td>1</td>\n",
       "    </tr>\n",
       "    <tr>\n",
       "      <th>1999</th>\n",
       "      <td>201999</td>\n",
       "      <td>\"Interview with Devon Alexander \\\"\"\"\"Speed Kil...</td>\n",
       "      <td>1</td>\n",
       "    </tr>\n",
       "  </tbody>\n",
       "</table>\n",
       "</div>"
      ],
      "text/plain": [
       "         idx                                               text  label\n",
       "1995  201995  \"LONDON (AP) \"\" Prince George celebrates his s...      1\n",
       "1996  201996  Harper's Worst Offense against Refugees may be...      1\n",
       "1997  201997  Hold on... Sam Smith may do the theme to Spect...      2\n",
       "1998  201998  Gonna watch Final Destination 5 tonight. I alw...      1\n",
       "1999  201999  \"Interview with Devon Alexander \\\"\"\"\"Speed Kil...      1"
      ]
     },
     "execution_count": 29,
     "metadata": {},
     "output_type": "execute_result"
    }
   ],
   "source": [
    "df_val.tail()"
   ]
  },
  {
   "cell_type": "code",
   "execution_count": 20,
   "metadata": {},
   "outputs": [
    {
     "data": {
      "text/html": [
       "<div>\n",
       "<style scoped>\n",
       "    .dataframe tbody tr th:only-of-type {\n",
       "        vertical-align: middle;\n",
       "    }\n",
       "\n",
       "    .dataframe tbody tr th {\n",
       "        vertical-align: top;\n",
       "    }\n",
       "\n",
       "    .dataframe thead th {\n",
       "        text-align: right;\n",
       "    }\n",
       "</style>\n",
       "<table border=\"1\" class=\"dataframe\">\n",
       "  <thead>\n",
       "    <tr style=\"text-align: right;\">\n",
       "      <th></th>\n",
       "      <th>idx</th>\n",
       "      <th>text</th>\n",
       "      <th>label</th>\n",
       "    </tr>\n",
       "  </thead>\n",
       "  <tbody>\n",
       "    <tr>\n",
       "      <th>0</th>\n",
       "      <td>3000</td>\n",
       "      <td>@user @user what do these '1/2 naked pics' hav...</td>\n",
       "      <td>1</td>\n",
       "    </tr>\n",
       "    <tr>\n",
       "      <th>1</th>\n",
       "      <td>3001</td>\n",
       "      <td>OH: “I had a blue penis while I was this” [pla...</td>\n",
       "      <td>1</td>\n",
       "    </tr>\n",
       "    <tr>\n",
       "      <th>2</th>\n",
       "      <td>3002</td>\n",
       "      <td>@user @user That's coming, but I think the vic...</td>\n",
       "      <td>1</td>\n",
       "    </tr>\n",
       "    <tr>\n",
       "      <th>3</th>\n",
       "      <td>3003</td>\n",
       "      <td>I think I may be finally in with the in crowd ...</td>\n",
       "      <td>2</td>\n",
       "    </tr>\n",
       "    <tr>\n",
       "      <th>4</th>\n",
       "      <td>3004</td>\n",
       "      <td>@user Wow,first Hugo Chavez and now Fidel Cast...</td>\n",
       "      <td>0</td>\n",
       "    </tr>\n",
       "  </tbody>\n",
       "</table>\n",
       "</div>"
      ],
      "text/plain": [
       "    idx                                               text  label\n",
       "0  3000  @user @user what do these '1/2 naked pics' hav...      1\n",
       "1  3001  OH: “I had a blue penis while I was this” [pla...      1\n",
       "2  3002  @user @user That's coming, but I think the vic...      1\n",
       "3  3003  I think I may be finally in with the in crowd ...      2\n",
       "4  3004  @user Wow,first Hugo Chavez and now Fidel Cast...      0"
      ]
     },
     "execution_count": 20,
     "metadata": {},
     "output_type": "execute_result"
    }
   ],
   "source": [
    "val.head()"
   ]
  },
  {
   "cell_type": "code",
   "execution_count": 3,
   "metadata": {},
   "outputs": [
    {
     "data": {
      "text/plain": [
       "'/home/pritam.k/research/hf_audit'"
      ]
     },
     "execution_count": 3,
     "metadata": {},
     "output_type": "execute_result"
    }
   ],
   "source": [
    "pwd"
   ]
  },
  {
   "cell_type": "code",
   "execution_count": 4,
   "metadata": {},
   "outputs": [],
   "source": [
    "from src.utils.helper import ConfiguredMetric"
   ]
  },
  {
   "cell_type": "code",
   "execution_count": null,
   "metadata": {},
   "outputs": [],
   "source": [
    "metrics = evaluate.combine([\n",
    "                evaluate.load('accuracy'), \n",
    "                ConfiguredMetric(evaluate.load('f1'), average='macro'),\n",
    "                ConfiguredMetric(evaluate.load('precision'), average='macro'),\n",
    "                ConfiguredMetric(evaluate.load('recall'), average='macro'),\n",
    "            ])"
   ]
  },
  {
   "cell_type": "code",
   "execution_count": 6,
   "metadata": {},
   "outputs": [
    {
     "data": {
      "text/plain": [
       "{'accuracy': 0.8333333333333334,\n",
       " 'f1': 0.8222222222222223,\n",
       " 'precision': 0.8333333333333334,\n",
       " 'recall': 0.8888888888888888}"
      ]
     },
     "execution_count": 6,
     "metadata": {},
     "output_type": "execute_result"
    }
   ],
   "source": [
    "references=[0, 2, 1, 2, 1, 0]\n",
    "predictions=[0, 1, 1, 2, 1, 0]\n",
    "metrics.compute(references, predictions)"
   ]
  },
  {
   "cell_type": "markdown",
   "metadata": {},
   "source": [
    "# Data Maps"
   ]
  },
  {
   "cell_type": "code",
   "execution_count": 180,
   "metadata": {},
   "outputs": [
    {
     "data": {
      "image/png": "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