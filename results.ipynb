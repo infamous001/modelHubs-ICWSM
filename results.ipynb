{
 "cells": [
  {
   "cell_type": "code",
   "execution_count": 1,
   "metadata": {},
   "outputs": [],
   "source": [
    "import os"
   ]
  },
  {
   "cell_type": "code",
   "execution_count": 5,
   "metadata": {},
   "outputs": [],
   "source": [
    "path=\"/home/vamsi.srivathsa/pritam.k/hf_audit/\"\n",
    "\n",
    "amr_b=\"amazon_multi_reviews/before/\"\n",
    "fp_b=\"financial_phrasebank/before/\"\n",
    "te_b=\"tweet_eval/before/\"\n",
    "\n",
    "amr_a=\"amazon_multi_reviews/after/\"\n",
    "fp_a=\"financial_phrasebank/after/\"\n",
    "te_a=\"tweet_eval/after/\""
   ]
  },
  {
   "cell_type": "code",
   "execution_count": 10,
   "metadata": {},
   "outputs": [],
   "source": [
    "amr_be=os.listdir(path+te_b+\"easy\")\n",
    "amr_ae=os.listdir(path+te_a+\"easy\")"
   ]
  },
  {
   "cell_type": "code",
   "execution_count": 11,
   "metadata": {},
   "outputs": [
    {
     "data": {
      "text/plain": [
       "(98, 97)"
      ]
     },
     "execution_count": 11,
     "metadata": {},
     "output_type": "execute_result"
    }
   ],
   "source": [
    "len(amr_be), len(amr_ae)"
   ]
  }
 ],
 "metadata": {
  "kernelspec": {
   "display_name": "base",
   "language": "python",
   "name": "python3"
  },
  "language_info": {
   "codemirror_mode": {
    "name": "ipython",
    "version": 3
   },
   "file_extension": ".py",
   "mimetype": "text/x-python",
   "name": "python",
   "nbconvert_exporter": "python",
   "pygments_lexer": "ipython3",
   "version": "3.11.4"
  }
 },
 "nbformat": 4,
 "nbformat_minor": 2
}
